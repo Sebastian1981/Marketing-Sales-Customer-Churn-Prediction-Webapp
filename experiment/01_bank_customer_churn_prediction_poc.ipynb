{
 "cells": [
  {
   "attachments": {},
   "cell_type": "markdown",
   "metadata": {
    "id": "M27qF7CTrBqc"
   },
   "source": [
    "# Predict bank customers churn"
   ]
  },
  {
   "cell_type": "code",
   "execution_count": 1,
   "metadata": {},
   "outputs": [],
   "source": [
    "%matplotlib inline\n",
    "import psycopg2\n",
    "import pickle\n",
    "\n",
    "# data processing\n",
    "import random\n",
    "import numpy as np\n",
    "import pandas as pd\n",
    "from sklearn.model_selection import train_test_split\n",
    "from sklearn.impute import SimpleImputer\n",
    "from sklearn.preprocessing import OneHotEncoder\n",
    "from feature_engine.encoding import RareLabelEncoder\n",
    "from feature_engine.outliers import Winsorizer\n",
    "\n",
    "# data visualization\n",
    "import matplotlib.pyplot as plt\n",
    "import seaborn as sns\n",
    "\n",
    "# Supervised Learning\n",
    "from sklearn.ensemble import RandomForestClassifier\n",
    "from sklearn.ensemble import GradientBoostingClassifier\n",
    "from sklearn.metrics import recall_score, make_scorer\n",
    "from sklearn.model_selection import GridSearchCV\n",
    "\n",
    "# Model Evaluation\n",
    "from sklearn.metrics import confusion_matrix, ConfusionMatrixDisplay\n",
    "\n",
    "# Explainability\n",
    "import shap"
   ]
  },
  {
   "attachments": {},
   "cell_type": "markdown",
   "metadata": {},
   "source": [
    "# Import Data\n",
    "\n",
    "the dataset is available here: https://www.kaggle.com/datasets/mathchi/churn-for-bank-customers\n",
    "\n",
    "- CustomerId—contains random values and has no effect on customer leaving the bank.\n",
    "- Surname—the surname of a customer has no impact on their decision to leave the bank.\n",
    "- CreditScore—can have an effect on customer churn, since a customer with a higher credit score is less likely to leave the bank.\n",
    "- Geography—a customer’s location can affect their decision to leave the bank.\n",
    "- Gender—it’s interesting to explore whether gender plays a role in a customer leaving the bank.\n",
    "- Age—this is certainly relevant, since older customers are less likely to leave their bank than younger ones.\n",
    "- Tenure—refers to the number of years that the customer has been a client of the bank. Normally, older clients are more loyal and less likely to leave a bank.\n",
    "-Balance—also a very good indicator of customer churn, as people with a higher balance in their accounts are less likely to leave the bank compared to those with lower balances.\n",
    "- NumOfProducts—refers to the number of products that a customer has purchased through the bank.\n",
    "- HasCrCard—denotes whether or not a customer has a credit card. This column is also relevant, since people with a credit card are less likely to leave the bank.\n",
    "- IsActiveMember—active customers are less likely to leave the bank.\n",
    "- EstimatedSalary—as with balance, people with lower salaries are more likely to leave the bank compared to those with higher salaries.\n",
    "- Churn—whether or not the customer left the bank."
   ]
  },
  {
   "cell_type": "code",
   "execution_count": 2,
   "metadata": {},
   "outputs": [],
   "source": [
    "## load data from local csv \n",
    "#df = pd.read_csv(\n",
    "#        filepath_or_buffer = '../data/bank_customers_churn_dataset.csv',\n",
    "#        index_col='customer_id'\n",
    "#)\n",
    "#\n",
    "## drop churn column for segmentation\n",
    "#df.drop('churn', axis=1, inplace=True)\n",
    "#\n",
    "## change type of categorical columns \"credit_card\" and \"active_member\"\n",
    "#df['credit_card'] = df['credit_card'].apply(lambda x: 'yes' if x == 1 else 'no')\n",
    "#df['active_member'] = df['active_member'].apply(lambda x: 'yes' if x == 1 else 'no')\n",
    "#\n",
    "#df.head()"
   ]
  },
  {
   "attachments": {},
   "cell_type": "markdown",
   "metadata": {},
   "source": [
    "## Utility Functions"
   ]
  },
  {
   "cell_type": "code",
   "execution_count": 3,
   "metadata": {},
   "outputs": [],
   "source": [
    "def get_data_from_my_postgre_db(password:str, table_name:str)->pd.DataFrame:\n",
    "    \"\"\"connects to marketing_analytics db and returns data from table_name as pandas dataframe .\n",
    "    inputs: database password and table_name\"\"\"\n",
    "    # Connect to the database\n",
    "    conn = psycopg2.connect(\n",
    "        database=\"marketing_analytics\", \n",
    "        user=\"postgres\", \n",
    "        password=password, \n",
    "        host=\"localhost\", \n",
    "        port=\"5432\")\n",
    "    # Create a cursor object\n",
    "    cur = conn.cursor()\n",
    "    # Execute a SQL query\n",
    "    #cur.execute(\"SELECT * FROM bank_customers_churn_dataset\")\n",
    "    cur.execute(\"SELECT * FROM \" + table_name) \n",
    "    # Get the column names from the cursor description\n",
    "    columns = [desc[0] for desc in cur.description]\n",
    "    # Fetch the results i.e. values\n",
    "    results = cur.fetchall()\n",
    "    # Create a dictionary mapping column names to values\n",
    "    data = [dict(zip(columns, row)) for row in results]\n",
    "    # Close the connection\n",
    "    conn.close()\n",
    "    # turn dictionary into dataframe\n",
    "    return pd.DataFrame.from_dict(data)\n",
    "\n",
    "def create_missing_values(df:pd.DataFrame, na_percentage=0.05)->pd.DataFrame:\n",
    "    \"\"\"impute missing values in na_percentage of rows in each column\"\"\"\n",
    "    X = df.copy()\n",
    "    # Create an array of 5 percent of the number of rows in the dataframe\n",
    "    num_rows = X.shape[0]\n",
    "    num_missing_values = int(num_rows * na_percentage)\n",
    "\n",
    "    # Iterate through each row and set the values to np.nan\n",
    "    for col in X.columns:\n",
    "        # Get a random sample of rows from 0 to num_rows-1\n",
    "        random_indices = random.sample(X.index.to_list(), num_missing_values)\n",
    "        for row in random_indices:  \n",
    "            X.loc[row, col] = np.nan\n",
    "    return X\n",
    "\n",
    "def create_outliers(df:pd.DataFrame, numeric_columns:list, na_percentage=0.05)->pd.DataFrame:\n",
    "    \"\"\"impute outliers in na_percentage of rows in each numeric column\"\"\"\n",
    "    X = df.copy()\n",
    "    # Create an array of 5 percent of the number of rows in the dataframe\n",
    "    num_rows = X.shape[0]\n",
    "    num_outliers = int(num_rows * na_percentage)\n",
    "\n",
    "    # Iterate through each row and set the values to np.nan\n",
    "    for col in X[numeric_columns]:\n",
    "        # get mean value, standard deviation and minimum\n",
    "        mean, sd, min = X[col].mean(), X[col].std(), X[col].min()\n",
    "        # Generate random numbers from normal distribution\n",
    "        rand_norm = np.random.normal(mean, sd, 1000000)\n",
    "        # Generate outliers which are at least mean+/-3*std\n",
    "        if min < 0:\n",
    "            outliers = np.append(rand_norm[rand_norm < mean-3*sd], rand_norm[rand_norm > mean+3*sd])\n",
    "        else:\n",
    "            outliers = rand_norm[rand_norm > mean+3*sd]\n",
    "\n",
    "        # Get a random sample of rows from 0 to num_rows-1\n",
    "        random_indices = random.sample(X.index.to_list(), num_outliers)\n",
    "        for row in random_indices:\n",
    "            X.loc[row, col] = random.sample(outliers.tolist(), 1)[0]\n",
    "    return X\n",
    "\n",
    "def plot_confusion_matrix(features:pd.DataFrame, labels:np.array, sklearn_model):\n",
    "    \"\"\"plot confusion matrix for trained model given labels and one-hotencoded features\"\"\"\n",
    "    # calc confusion matrix\n",
    "    cm = confusion_matrix(labels, sklearn_model.predict(features), labels=sklearn_model.classes_)\n",
    "    # create matrix display\n",
    "    disp = ConfusionMatrixDisplay(\n",
    "        confusion_matrix=cm,                            \n",
    "        display_labels=sklearn_model.classes_)\n",
    "    disp.plot()\n",
    "    plt.show()"
   ]
  },
  {
   "cell_type": "code",
   "execution_count": 4,
   "metadata": {},
   "outputs": [],
   "source": [
    "f = open(\"../private.txt\", \"r\")\n",
    "pw = f.read()"
   ]
  },
  {
   "cell_type": "code",
   "execution_count": 5,
   "metadata": {},
   "outputs": [],
   "source": [
    "# get data from postres db\n",
    "table_name = \"bank_customers_churn_dataset\"\n",
    "df = get_data_from_my_postgre_db(pw, table_name)\n",
    "\n",
    "# set customer id as index\n",
    "df.set_index('customer_id', inplace=True)\n",
    "\n",
    "## change churn column type to bool\n",
    "df['churn'] = df['churn'].astype('int').astype('bool')\n",
    "\n",
    "# change data types to numeric\n",
    "df['tenure'] = df['tenure'].apply(lambda x: int(x))\n",
    "df['products_number'] = df['products_number'].apply(lambda x: int(x))\n",
    "df['credit_card'] = df['credit_card'].apply(lambda x: int(x))\n",
    "df['active_member'] = df['active_member'].apply(lambda x: int(x))\n",
    "\n",
    "# change type of categorical columns \"credit_card\" and \"active_member\"\n",
    "df['credit_card'] = df['credit_card'].apply(lambda x: 'yes' if x == 1 else 'no')\n",
    "df['active_member'] = df['active_member'].apply(lambda x: 'yes' if x == 1 else 'no')"
   ]
  },
  {
   "cell_type": "code",
   "execution_count": 6,
   "metadata": {},
   "outputs": [
    {
     "data": {
      "text/plain": [
       "credit_score        float64\n",
       "country              object\n",
       "gender               object\n",
       "age                   int64\n",
       "tenure                int64\n",
       "balance             float64\n",
       "products_number       int64\n",
       "credit_card          object\n",
       "active_member        object\n",
       "estimated_salary    float64\n",
       "churn                  bool\n",
       "dtype: object"
      ]
     },
     "execution_count": 6,
     "metadata": {},
     "output_type": "execute_result"
    }
   ],
   "source": [
    "df.dtypes"
   ]
  },
  {
   "cell_type": "code",
   "execution_count": 7,
   "metadata": {},
   "outputs": [
    {
     "data": {
      "text/html": [
       "<div>\n",
       "<style scoped>\n",
       "    .dataframe tbody tr th:only-of-type {\n",
       "        vertical-align: middle;\n",
       "    }\n",
       "\n",
       "    .dataframe tbody tr th {\n",
       "        vertical-align: top;\n",
       "    }\n",
       "\n",
       "    .dataframe thead th {\n",
       "        text-align: right;\n",
       "    }\n",
       "</style>\n",
       "<table border=\"1\" class=\"dataframe\">\n",
       "  <thead>\n",
       "    <tr style=\"text-align: right;\">\n",
       "      <th></th>\n",
       "      <th>credit_score</th>\n",
       "      <th>country</th>\n",
       "      <th>gender</th>\n",
       "      <th>age</th>\n",
       "      <th>tenure</th>\n",
       "      <th>balance</th>\n",
       "      <th>products_number</th>\n",
       "      <th>credit_card</th>\n",
       "      <th>active_member</th>\n",
       "      <th>estimated_salary</th>\n",
       "      <th>churn</th>\n",
       "    </tr>\n",
       "    <tr>\n",
       "      <th>customer_id</th>\n",
       "      <th></th>\n",
       "      <th></th>\n",
       "      <th></th>\n",
       "      <th></th>\n",
       "      <th></th>\n",
       "      <th></th>\n",
       "      <th></th>\n",
       "      <th></th>\n",
       "      <th></th>\n",
       "      <th></th>\n",
       "      <th></th>\n",
       "    </tr>\n",
       "  </thead>\n",
       "  <tbody>\n",
       "    <tr>\n",
       "      <th>15634602</th>\n",
       "      <td>619.0</td>\n",
       "      <td>France</td>\n",
       "      <td>Female</td>\n",
       "      <td>42</td>\n",
       "      <td>2</td>\n",
       "      <td>0.00</td>\n",
       "      <td>1</td>\n",
       "      <td>yes</td>\n",
       "      <td>yes</td>\n",
       "      <td>101348.88</td>\n",
       "      <td>True</td>\n",
       "    </tr>\n",
       "    <tr>\n",
       "      <th>15647311</th>\n",
       "      <td>608.0</td>\n",
       "      <td>Spain</td>\n",
       "      <td>Female</td>\n",
       "      <td>41</td>\n",
       "      <td>1</td>\n",
       "      <td>83807.86</td>\n",
       "      <td>1</td>\n",
       "      <td>no</td>\n",
       "      <td>yes</td>\n",
       "      <td>112542.58</td>\n",
       "      <td>False</td>\n",
       "    </tr>\n",
       "    <tr>\n",
       "      <th>15619304</th>\n",
       "      <td>502.0</td>\n",
       "      <td>France</td>\n",
       "      <td>Female</td>\n",
       "      <td>42</td>\n",
       "      <td>8</td>\n",
       "      <td>159660.80</td>\n",
       "      <td>3</td>\n",
       "      <td>yes</td>\n",
       "      <td>no</td>\n",
       "      <td>113931.57</td>\n",
       "      <td>True</td>\n",
       "    </tr>\n",
       "    <tr>\n",
       "      <th>15701354</th>\n",
       "      <td>699.0</td>\n",
       "      <td>France</td>\n",
       "      <td>Female</td>\n",
       "      <td>39</td>\n",
       "      <td>1</td>\n",
       "      <td>0.00</td>\n",
       "      <td>2</td>\n",
       "      <td>no</td>\n",
       "      <td>no</td>\n",
       "      <td>93826.63</td>\n",
       "      <td>False</td>\n",
       "    </tr>\n",
       "    <tr>\n",
       "      <th>15737888</th>\n",
       "      <td>850.0</td>\n",
       "      <td>Spain</td>\n",
       "      <td>Female</td>\n",
       "      <td>43</td>\n",
       "      <td>2</td>\n",
       "      <td>125510.82</td>\n",
       "      <td>1</td>\n",
       "      <td>yes</td>\n",
       "      <td>yes</td>\n",
       "      <td>79084.10</td>\n",
       "      <td>False</td>\n",
       "    </tr>\n",
       "  </tbody>\n",
       "</table>\n",
       "</div>"
      ],
      "text/plain": [
       "             credit_score country  gender  age  tenure    balance  \\\n",
       "customer_id                                                         \n",
       "15634602            619.0  France  Female   42       2       0.00   \n",
       "15647311            608.0   Spain  Female   41       1   83807.86   \n",
       "15619304            502.0  France  Female   42       8  159660.80   \n",
       "15701354            699.0  France  Female   39       1       0.00   \n",
       "15737888            850.0   Spain  Female   43       2  125510.82   \n",
       "\n",
       "             products_number credit_card active_member  estimated_salary  \\\n",
       "customer_id                                                                \n",
       "15634602                   1         yes           yes         101348.88   \n",
       "15647311                   1          no           yes         112542.58   \n",
       "15619304                   3         yes            no         113931.57   \n",
       "15701354                   2          no            no          93826.63   \n",
       "15737888                   1         yes           yes          79084.10   \n",
       "\n",
       "             churn  \n",
       "customer_id         \n",
       "15634602      True  \n",
       "15647311     False  \n",
       "15619304      True  \n",
       "15701354     False  \n",
       "15737888     False  "
      ]
     },
     "execution_count": 7,
     "metadata": {},
     "output_type": "execute_result"
    }
   ],
   "source": [
    "df.head()"
   ]
  },
  {
   "cell_type": "code",
   "execution_count": 8,
   "metadata": {},
   "outputs": [
    {
     "name": "stdout",
     "output_type": "stream",
     "text": [
      "['France' 'Spain' 'Germany']\n",
      "['Female' 'Male']\n",
      "['yes' 'no']\n",
      "['yes' 'no']\n",
      "[ True False]\n"
     ]
    }
   ],
   "source": [
    "# check unique values for categorical values\n",
    "print(df['country'].unique())\n",
    "print(df['gender'].unique())\n",
    "print(df['credit_card'].unique())\n",
    "print(df['active_member'].unique())\n",
    "print(df['churn'].unique())"
   ]
  },
  {
   "attachments": {},
   "cell_type": "markdown",
   "metadata": {},
   "source": [
    "# Train-Test Split the Data"
   ]
  },
  {
   "cell_type": "code",
   "execution_count": 9,
   "metadata": {},
   "outputs": [
    {
     "data": {
      "text/plain": [
       "(10000, 11)"
      ]
     },
     "execution_count": 9,
     "metadata": {},
     "output_type": "execute_result"
    }
   ],
   "source": [
    "df.shape"
   ]
  },
  {
   "cell_type": "code",
   "execution_count": 10,
   "metadata": {},
   "outputs": [],
   "source": [
    "# divide features and target\n",
    "X = df.iloc[:,:-1]\n",
    "y = df['churn'].values"
   ]
  },
  {
   "cell_type": "code",
   "execution_count": 11,
   "metadata": {},
   "outputs": [],
   "source": [
    "# way too much data for training; let´s split the data\n",
    "X_train, X_test, y_train, y_test = train_test_split(\n",
    "    X, y, \n",
    "    test_size=0.5, \n",
    "    stratify=y,\n",
    "    random_state=123)"
   ]
  },
  {
   "cell_type": "code",
   "execution_count": 12,
   "metadata": {},
   "outputs": [
    {
     "data": {
      "text/plain": [
       "(5000, 10)"
      ]
     },
     "execution_count": 12,
     "metadata": {},
     "output_type": "execute_result"
    }
   ],
   "source": [
    "X_train.shape"
   ]
  },
  {
   "cell_type": "code",
   "execution_count": 13,
   "metadata": {},
   "outputs": [
    {
     "data": {
      "text/plain": [
       "(5000, 10)"
      ]
     },
     "execution_count": 13,
     "metadata": {},
     "output_type": "execute_result"
    }
   ],
   "source": [
    "X_test.shape"
   ]
  },
  {
   "cell_type": "code",
   "execution_count": 14,
   "metadata": {},
   "outputs": [
    {
     "data": {
      "text/html": [
       "<div>\n",
       "<style scoped>\n",
       "    .dataframe tbody tr th:only-of-type {\n",
       "        vertical-align: middle;\n",
       "    }\n",
       "\n",
       "    .dataframe tbody tr th {\n",
       "        vertical-align: top;\n",
       "    }\n",
       "\n",
       "    .dataframe thead th {\n",
       "        text-align: right;\n",
       "    }\n",
       "</style>\n",
       "<table border=\"1\" class=\"dataframe\">\n",
       "  <thead>\n",
       "    <tr style=\"text-align: right;\">\n",
       "      <th></th>\n",
       "      <th>credit_score</th>\n",
       "      <th>country</th>\n",
       "      <th>gender</th>\n",
       "      <th>age</th>\n",
       "      <th>tenure</th>\n",
       "      <th>balance</th>\n",
       "      <th>products_number</th>\n",
       "      <th>credit_card</th>\n",
       "      <th>active_member</th>\n",
       "      <th>estimated_salary</th>\n",
       "    </tr>\n",
       "    <tr>\n",
       "      <th>customer_id</th>\n",
       "      <th></th>\n",
       "      <th></th>\n",
       "      <th></th>\n",
       "      <th></th>\n",
       "      <th></th>\n",
       "      <th></th>\n",
       "      <th></th>\n",
       "      <th></th>\n",
       "      <th></th>\n",
       "      <th></th>\n",
       "    </tr>\n",
       "  </thead>\n",
       "  <tbody>\n",
       "    <tr>\n",
       "      <th>15733705</th>\n",
       "      <td>577.0</td>\n",
       "      <td>France</td>\n",
       "      <td>Female</td>\n",
       "      <td>30</td>\n",
       "      <td>8</td>\n",
       "      <td>92472.10</td>\n",
       "      <td>2</td>\n",
       "      <td>no</td>\n",
       "      <td>yes</td>\n",
       "      <td>126434.61</td>\n",
       "    </tr>\n",
       "    <tr>\n",
       "      <th>15580719</th>\n",
       "      <td>697.0</td>\n",
       "      <td>France</td>\n",
       "      <td>Female</td>\n",
       "      <td>23</td>\n",
       "      <td>10</td>\n",
       "      <td>0.00</td>\n",
       "      <td>2</td>\n",
       "      <td>yes</td>\n",
       "      <td>yes</td>\n",
       "      <td>79734.23</td>\n",
       "    </tr>\n",
       "    <tr>\n",
       "      <th>15613923</th>\n",
       "      <td>581.0</td>\n",
       "      <td>Spain</td>\n",
       "      <td>Female</td>\n",
       "      <td>43</td>\n",
       "      <td>4</td>\n",
       "      <td>170172.90</td>\n",
       "      <td>1</td>\n",
       "      <td>no</td>\n",
       "      <td>yes</td>\n",
       "      <td>100236.02</td>\n",
       "    </tr>\n",
       "    <tr>\n",
       "      <th>15624703</th>\n",
       "      <td>550.0</td>\n",
       "      <td>Germany</td>\n",
       "      <td>Male</td>\n",
       "      <td>35</td>\n",
       "      <td>9</td>\n",
       "      <td>129847.75</td>\n",
       "      <td>2</td>\n",
       "      <td>yes</td>\n",
       "      <td>no</td>\n",
       "      <td>197325.40</td>\n",
       "    </tr>\n",
       "    <tr>\n",
       "      <th>15743817</th>\n",
       "      <td>621.0</td>\n",
       "      <td>Germany</td>\n",
       "      <td>Male</td>\n",
       "      <td>40</td>\n",
       "      <td>8</td>\n",
       "      <td>174126.75</td>\n",
       "      <td>3</td>\n",
       "      <td>yes</td>\n",
       "      <td>no</td>\n",
       "      <td>172490.78</td>\n",
       "    </tr>\n",
       "  </tbody>\n",
       "</table>\n",
       "</div>"
      ],
      "text/plain": [
       "             credit_score  country  gender  age  tenure    balance  \\\n",
       "customer_id                                                          \n",
       "15733705            577.0   France  Female   30       8   92472.10   \n",
       "15580719            697.0   France  Female   23      10       0.00   \n",
       "15613923            581.0    Spain  Female   43       4  170172.90   \n",
       "15624703            550.0  Germany    Male   35       9  129847.75   \n",
       "15743817            621.0  Germany    Male   40       8  174126.75   \n",
       "\n",
       "             products_number credit_card active_member  estimated_salary  \n",
       "customer_id                                                               \n",
       "15733705                   2          no           yes         126434.61  \n",
       "15580719                   2         yes           yes          79734.23  \n",
       "15613923                   1          no           yes         100236.02  \n",
       "15624703                   2         yes            no         197325.40  \n",
       "15743817                   3         yes            no         172490.78  "
      ]
     },
     "execution_count": 14,
     "metadata": {},
     "output_type": "execute_result"
    }
   ],
   "source": [
    "X_train.head()"
   ]
  },
  {
   "attachments": {},
   "cell_type": "markdown",
   "metadata": {},
   "source": [
    "## Simulate Additional Missing Values and Outliers to Ensure the Methods for Recovery Work"
   ]
  },
  {
   "cell_type": "code",
   "execution_count": 15,
   "metadata": {},
   "outputs": [
    {
     "name": "stdout",
     "output_type": "stream",
     "text": [
      "numeric columns: ['credit_score', 'age', 'tenure', 'balance', 'products_number', 'estimated_salary']\n",
      "categorical columns: ['country', 'gender', 'credit_card', 'active_member']\n"
     ]
    }
   ],
   "source": [
    "# get numeric and categorical columns\n",
    "numerics = ['int16', 'int32', 'int64', 'float16', 'float32', 'float64']\n",
    "numeric_columns = X_train.select_dtypes(include=numerics).columns.to_list()\n",
    "categorical_columns = X_train.select_dtypes(exclude=numerics).columns.to_list()\n",
    "\n",
    "print('numeric columns: {}'.format(numeric_columns))\n",
    "print('categorical columns: {}'.format(categorical_columns))"
   ]
  },
  {
   "cell_type": "code",
   "execution_count": 16,
   "metadata": {},
   "outputs": [],
   "source": [
    "# create some more missing data in 5% of all rows to ensure enough missing data to test the missing data imputation methods\n",
    "X_train = create_missing_values(X_train, na_percentage=0.05)\n",
    "X_test = create_missing_values(X_test, na_percentage=0.05)"
   ]
  },
  {
   "cell_type": "code",
   "execution_count": 17,
   "metadata": {},
   "outputs": [],
   "source": [
    "# create additional outliers in 5% of the rows to test out outlier removal method\n",
    "X_train = create_outliers(X_train, numeric_columns, 0.05)\n",
    "X_test = create_outliers(X_test, numeric_columns, 0.05)"
   ]
  },
  {
   "cell_type": "markdown",
   "metadata": {},
   "source": [
    "# Exploratory Data Analysis"
   ]
  },
  {
   "cell_type": "code",
   "execution_count": 18,
   "metadata": {},
   "outputs": [
    {
     "data": {
      "text/html": [
       "<div>\n",
       "<style scoped>\n",
       "    .dataframe tbody tr th:only-of-type {\n",
       "        vertical-align: middle;\n",
       "    }\n",
       "\n",
       "    .dataframe tbody tr th {\n",
       "        vertical-align: top;\n",
       "    }\n",
       "\n",
       "    .dataframe thead th {\n",
       "        text-align: right;\n",
       "    }\n",
       "</style>\n",
       "<table border=\"1\" class=\"dataframe\">\n",
       "  <thead>\n",
       "    <tr style=\"text-align: right;\">\n",
       "      <th></th>\n",
       "      <th>credit_score</th>\n",
       "      <th>country</th>\n",
       "      <th>gender</th>\n",
       "      <th>age</th>\n",
       "      <th>tenure</th>\n",
       "      <th>balance</th>\n",
       "      <th>products_number</th>\n",
       "      <th>credit_card</th>\n",
       "      <th>active_member</th>\n",
       "      <th>estimated_salary</th>\n",
       "    </tr>\n",
       "    <tr>\n",
       "      <th>customer_id</th>\n",
       "      <th></th>\n",
       "      <th></th>\n",
       "      <th></th>\n",
       "      <th></th>\n",
       "      <th></th>\n",
       "      <th></th>\n",
       "      <th></th>\n",
       "      <th></th>\n",
       "      <th></th>\n",
       "      <th></th>\n",
       "    </tr>\n",
       "  </thead>\n",
       "  <tbody>\n",
       "    <tr>\n",
       "      <th>15733705</th>\n",
       "      <td>577.0</td>\n",
       "      <td>France</td>\n",
       "      <td>Female</td>\n",
       "      <td>30.000000</td>\n",
       "      <td>8.0</td>\n",
       "      <td>92472.100000</td>\n",
       "      <td>2.000000</td>\n",
       "      <td>no</td>\n",
       "      <td>yes</td>\n",
       "      <td>126434.61</td>\n",
       "    </tr>\n",
       "    <tr>\n",
       "      <th>15580719</th>\n",
       "      <td>697.0</td>\n",
       "      <td>France</td>\n",
       "      <td>Female</td>\n",
       "      <td>71.657071</td>\n",
       "      <td>10.0</td>\n",
       "      <td>0.000000</td>\n",
       "      <td>2.000000</td>\n",
       "      <td>yes</td>\n",
       "      <td>yes</td>\n",
       "      <td>79734.23</td>\n",
       "    </tr>\n",
       "    <tr>\n",
       "      <th>15613923</th>\n",
       "      <td>581.0</td>\n",
       "      <td>Spain</td>\n",
       "      <td>Female</td>\n",
       "      <td>43.000000</td>\n",
       "      <td>4.0</td>\n",
       "      <td>170172.900000</td>\n",
       "      <td>1.000000</td>\n",
       "      <td>no</td>\n",
       "      <td>yes</td>\n",
       "      <td>100236.02</td>\n",
       "    </tr>\n",
       "    <tr>\n",
       "      <th>15624703</th>\n",
       "      <td>550.0</td>\n",
       "      <td>Germany</td>\n",
       "      <td>Male</td>\n",
       "      <td>35.000000</td>\n",
       "      <td>9.0</td>\n",
       "      <td>129847.750000</td>\n",
       "      <td>2.000000</td>\n",
       "      <td>yes</td>\n",
       "      <td>no</td>\n",
       "      <td>NaN</td>\n",
       "    </tr>\n",
       "    <tr>\n",
       "      <th>15743817</th>\n",
       "      <td>621.0</td>\n",
       "      <td>Germany</td>\n",
       "      <td>Male</td>\n",
       "      <td>40.000000</td>\n",
       "      <td>8.0</td>\n",
       "      <td>174126.750000</td>\n",
       "      <td>3.000000</td>\n",
       "      <td>yes</td>\n",
       "      <td>no</td>\n",
       "      <td>172490.78</td>\n",
       "    </tr>\n",
       "    <tr>\n",
       "      <th>...</th>\n",
       "      <td>...</td>\n",
       "      <td>...</td>\n",
       "      <td>...</td>\n",
       "      <td>...</td>\n",
       "      <td>...</td>\n",
       "      <td>...</td>\n",
       "      <td>...</td>\n",
       "      <td>...</td>\n",
       "      <td>...</td>\n",
       "      <td>...</td>\n",
       "    </tr>\n",
       "    <tr>\n",
       "      <th>15574879</th>\n",
       "      <td>631.0</td>\n",
       "      <td>Germany</td>\n",
       "      <td>Female</td>\n",
       "      <td>37.000000</td>\n",
       "      <td>2.0</td>\n",
       "      <td>276001.694444</td>\n",
       "      <td>2.000000</td>\n",
       "      <td>no</td>\n",
       "      <td>yes</td>\n",
       "      <td>23146.62</td>\n",
       "    </tr>\n",
       "    <tr>\n",
       "      <th>15815628</th>\n",
       "      <td>711.0</td>\n",
       "      <td>France</td>\n",
       "      <td>Female</td>\n",
       "      <td>37.000000</td>\n",
       "      <td>8.0</td>\n",
       "      <td>113899.920000</td>\n",
       "      <td>1.000000</td>\n",
       "      <td>no</td>\n",
       "      <td>no</td>\n",
       "      <td>80215.20</td>\n",
       "    </tr>\n",
       "    <tr>\n",
       "      <th>15810942</th>\n",
       "      <td>445.0</td>\n",
       "      <td>Germany</td>\n",
       "      <td>NaN</td>\n",
       "      <td>61.000000</td>\n",
       "      <td>2.0</td>\n",
       "      <td>137655.310000</td>\n",
       "      <td>1.000000</td>\n",
       "      <td>no</td>\n",
       "      <td>yes</td>\n",
       "      <td>29909.84</td>\n",
       "    </tr>\n",
       "    <tr>\n",
       "      <th>15803716</th>\n",
       "      <td>706.0</td>\n",
       "      <td>Spain</td>\n",
       "      <td>Male</td>\n",
       "      <td>28.000000</td>\n",
       "      <td>3.0</td>\n",
       "      <td>0.000000</td>\n",
       "      <td>3.426261</td>\n",
       "      <td>no</td>\n",
       "      <td>yes</td>\n",
       "      <td>181543.67</td>\n",
       "    </tr>\n",
       "    <tr>\n",
       "      <th>15696852</th>\n",
       "      <td>803.0</td>\n",
       "      <td>France</td>\n",
       "      <td>Female</td>\n",
       "      <td>32.000000</td>\n",
       "      <td>9.0</td>\n",
       "      <td>192122.840000</td>\n",
       "      <td>1.000000</td>\n",
       "      <td>yes</td>\n",
       "      <td>yes</td>\n",
       "      <td>54277.45</td>\n",
       "    </tr>\n",
       "  </tbody>\n",
       "</table>\n",
       "<p>5000 rows × 10 columns</p>\n",
       "</div>"
      ],
      "text/plain": [
       "             credit_score  country  gender        age  tenure        balance  \\\n",
       "customer_id                                                                    \n",
       "15733705            577.0   France  Female  30.000000     8.0   92472.100000   \n",
       "15580719            697.0   France  Female  71.657071    10.0       0.000000   \n",
       "15613923            581.0    Spain  Female  43.000000     4.0  170172.900000   \n",
       "15624703            550.0  Germany    Male  35.000000     9.0  129847.750000   \n",
       "15743817            621.0  Germany    Male  40.000000     8.0  174126.750000   \n",
       "...                   ...      ...     ...        ...     ...            ...   \n",
       "15574879            631.0  Germany  Female  37.000000     2.0  276001.694444   \n",
       "15815628            711.0   France  Female  37.000000     8.0  113899.920000   \n",
       "15810942            445.0  Germany     NaN  61.000000     2.0  137655.310000   \n",
       "15803716            706.0    Spain    Male  28.000000     3.0       0.000000   \n",
       "15696852            803.0   France  Female  32.000000     9.0  192122.840000   \n",
       "\n",
       "             products_number credit_card active_member  estimated_salary  \n",
       "customer_id                                                               \n",
       "15733705            2.000000          no           yes         126434.61  \n",
       "15580719            2.000000         yes           yes          79734.23  \n",
       "15613923            1.000000          no           yes         100236.02  \n",
       "15624703            2.000000         yes            no               NaN  \n",
       "15743817            3.000000         yes            no         172490.78  \n",
       "...                      ...         ...           ...               ...  \n",
       "15574879            2.000000          no           yes          23146.62  \n",
       "15815628            1.000000          no            no          80215.20  \n",
       "15810942            1.000000          no           yes          29909.84  \n",
       "15803716            3.426261          no           yes         181543.67  \n",
       "15696852            1.000000         yes           yes          54277.45  \n",
       "\n",
       "[5000 rows x 10 columns]"
      ]
     },
     "execution_count": 18,
     "metadata": {},
     "output_type": "execute_result"
    }
   ],
   "source": [
    "X_train"
   ]
  },
  {
   "cell_type": "code",
   "execution_count": 19,
   "metadata": {},
   "outputs": [
    {
     "name": "stdout",
     "output_type": "stream",
     "text": [
      "<class 'pandas.core.frame.DataFrame'>\n",
      "Index: 5000 entries, 15733705 to 15696852\n",
      "Data columns (total 10 columns):\n",
      " #   Column            Non-Null Count  Dtype  \n",
      "---  ------            --------------  -----  \n",
      " 0   credit_score      4761 non-null   float64\n",
      " 1   country           4750 non-null   object \n",
      " 2   gender            4750 non-null   object \n",
      " 3   age               4763 non-null   float64\n",
      " 4   tenure            4761 non-null   float64\n",
      " 5   balance           4759 non-null   float64\n",
      " 6   products_number   4761 non-null   float64\n",
      " 7   credit_card       4750 non-null   object \n",
      " 8   active_member     4750 non-null   object \n",
      " 9   estimated_salary  4762 non-null   float64\n",
      "dtypes: float64(6), object(4)\n",
      "memory usage: 558.7+ KB\n"
     ]
    }
   ],
   "source": [
    "X_train.info()"
   ]
  },
  {
   "cell_type": "code",
   "execution_count": 20,
   "metadata": {},
   "outputs": [
    {
     "data": {
      "text/plain": [
       "credit_score        239\n",
       "country             250\n",
       "gender              250\n",
       "age                 237\n",
       "tenure              239\n",
       "balance             241\n",
       "products_number     239\n",
       "credit_card         250\n",
       "active_member       250\n",
       "estimated_salary    238\n",
       "dtype: int64"
      ]
     },
     "execution_count": 20,
     "metadata": {},
     "output_type": "execute_result"
    }
   ],
   "source": [
    "X_train.isna().sum()"
   ]
  },
  {
   "attachments": {},
   "cell_type": "markdown",
   "metadata": {},
   "source": [
    "## Impute Missing Values"
   ]
  },
  {
   "cell_type": "code",
   "execution_count": 21,
   "metadata": {},
   "outputs": [
    {
     "data": {
      "image/png": "[encoded data removed]",
      "text/plain": [
       "<Figure size 432x288 with 1 Axes>"
      ]
     },
     "metadata": {
      "needs_background": "light"
     },
     "output_type": "display_data"
    }
   ],
   "source": [
    "# Let's see if we have any missing data, luckily we don't!\n",
    "sns.heatmap(X_train.isna(), yticklabels = False, cbar = False, cmap=\"Blues\")\n",
    "plt.show()"
   ]
  },
  {
   "cell_type": "code",
   "execution_count": 22,
   "metadata": {},
   "outputs": [
    {
     "data": {
      "text/html": [
       "<div>\n",
       "<style scoped>\n",
       "    .dataframe tbody tr th:only-of-type {\n",
       "        vertical-align: middle;\n",
       "    }\n",
       "\n",
       "    .dataframe tbody tr th {\n",
       "        vertical-align: top;\n",
       "    }\n",
       "\n",
       "    .dataframe thead th {\n",
       "        text-align: right;\n",
       "    }\n",
       "</style>\n",
       "<table border=\"1\" class=\"dataframe\">\n",
       "  <thead>\n",
       "    <tr style=\"text-align: right;\">\n",
       "      <th></th>\n",
       "      <th>credit_score</th>\n",
       "      <th>age</th>\n",
       "      <th>tenure</th>\n",
       "      <th>balance</th>\n",
       "      <th>products_number</th>\n",
       "      <th>estimated_salary</th>\n",
       "    </tr>\n",
       "    <tr>\n",
       "      <th>customer_id</th>\n",
       "      <th></th>\n",
       "      <th></th>\n",
       "      <th></th>\n",
       "      <th></th>\n",
       "      <th></th>\n",
       "      <th></th>\n",
       "    </tr>\n",
       "  </thead>\n",
       "  <tbody>\n",
       "    <tr>\n",
       "      <th>15733705</th>\n",
       "      <td>577.0</td>\n",
       "      <td>30.000000</td>\n",
       "      <td>8.0</td>\n",
       "      <td>92472.10</td>\n",
       "      <td>2.0</td>\n",
       "      <td>126434.61</td>\n",
       "    </tr>\n",
       "    <tr>\n",
       "      <th>15580719</th>\n",
       "      <td>697.0</td>\n",
       "      <td>71.657071</td>\n",
       "      <td>10.0</td>\n",
       "      <td>0.00</td>\n",
       "      <td>2.0</td>\n",
       "      <td>79734.23</td>\n",
       "    </tr>\n",
       "    <tr>\n",
       "      <th>15613923</th>\n",
       "      <td>581.0</td>\n",
       "      <td>43.000000</td>\n",
       "      <td>4.0</td>\n",
       "      <td>170172.90</td>\n",
       "      <td>1.0</td>\n",
       "      <td>100236.02</td>\n",
       "    </tr>\n",
       "    <tr>\n",
       "      <th>15624703</th>\n",
       "      <td>550.0</td>\n",
       "      <td>35.000000</td>\n",
       "      <td>9.0</td>\n",
       "      <td>129847.75</td>\n",
       "      <td>2.0</td>\n",
       "      <td>106673.45</td>\n",
       "    </tr>\n",
       "    <tr>\n",
       "      <th>15743817</th>\n",
       "      <td>621.0</td>\n",
       "      <td>40.000000</td>\n",
       "      <td>8.0</td>\n",
       "      <td>174126.75</td>\n",
       "      <td>3.0</td>\n",
       "      <td>172490.78</td>\n",
       "    </tr>\n",
       "  </tbody>\n",
       "</table>\n",
       "</div>"
      ],
      "text/plain": [
       "             credit_score        age  tenure    balance  products_number  \\\n",
       "customer_id                                                                \n",
       "15733705            577.0  30.000000     8.0   92472.10              2.0   \n",
       "15580719            697.0  71.657071    10.0       0.00              2.0   \n",
       "15613923            581.0  43.000000     4.0  170172.90              1.0   \n",
       "15624703            550.0  35.000000     9.0  129847.75              2.0   \n",
       "15743817            621.0  40.000000     8.0  174126.75              3.0   \n",
       "\n",
       "             estimated_salary  \n",
       "customer_id                    \n",
       "15733705            126434.61  \n",
       "15580719             79734.23  \n",
       "15613923            100236.02  \n",
       "15624703            106673.45  \n",
       "15743817            172490.78  "
      ]
     },
     "execution_count": 22,
     "metadata": {},
     "output_type": "execute_result"
    }
   ],
   "source": [
    "# Impute missing numeric values\n",
    "numeric_imputer = SimpleImputer(missing_values=np.nan, strategy='median')\n",
    "X_train_numeric = numeric_imputer.fit_transform(X_train.select_dtypes(include=numerics))\n",
    "X_train_numeric = pd.DataFrame(X_train_numeric, columns=numeric_columns, index=X_train.index)\n",
    "X_train_numeric.head()"
   ]
  },
  {
   "cell_type": "code",
   "execution_count": 23,
   "metadata": {},
   "outputs": [
    {
     "data": {
      "text/html": [
       "<div>\n",
       "<style scoped>\n",
       "    .dataframe tbody tr th:only-of-type {\n",
       "        vertical-align: middle;\n",
       "    }\n",
       "\n",
       "    .dataframe tbody tr th {\n",
       "        vertical-align: top;\n",
       "    }\n",
       "\n",
       "    .dataframe thead th {\n",
       "        text-align: right;\n",
       "    }\n",
       "</style>\n",
       "<table border=\"1\" class=\"dataframe\">\n",
       "  <thead>\n",
       "    <tr style=\"text-align: right;\">\n",
       "      <th></th>\n",
       "      <th>credit_score</th>\n",
       "      <th>age</th>\n",
       "      <th>tenure</th>\n",
       "      <th>balance</th>\n",
       "      <th>products_number</th>\n",
       "      <th>estimated_salary</th>\n",
       "    </tr>\n",
       "    <tr>\n",
       "      <th>customer_id</th>\n",
       "      <th></th>\n",
       "      <th></th>\n",
       "      <th></th>\n",
       "      <th></th>\n",
       "      <th></th>\n",
       "      <th></th>\n",
       "    </tr>\n",
       "  </thead>\n",
       "  <tbody>\n",
       "    <tr>\n",
       "      <th>15704651</th>\n",
       "      <td>514.0</td>\n",
       "      <td>26.000000</td>\n",
       "      <td>1.0</td>\n",
       "      <td>0.00</td>\n",
       "      <td>2.0</td>\n",
       "      <td>121551.93</td>\n",
       "    </tr>\n",
       "    <tr>\n",
       "      <th>15736397</th>\n",
       "      <td>544.0</td>\n",
       "      <td>71.296396</td>\n",
       "      <td>1.0</td>\n",
       "      <td>96471.20</td>\n",
       "      <td>1.0</td>\n",
       "      <td>35550.97</td>\n",
       "    </tr>\n",
       "    <tr>\n",
       "      <th>15596405</th>\n",
       "      <td>546.0</td>\n",
       "      <td>25.000000</td>\n",
       "      <td>7.0</td>\n",
       "      <td>127728.24</td>\n",
       "      <td>2.0</td>\n",
       "      <td>105279.74</td>\n",
       "    </tr>\n",
       "    <tr>\n",
       "      <th>15623595</th>\n",
       "      <td>586.0</td>\n",
       "      <td>28.000000</td>\n",
       "      <td>2.0</td>\n",
       "      <td>100654.80</td>\n",
       "      <td>2.0</td>\n",
       "      <td>92067.35</td>\n",
       "    </tr>\n",
       "    <tr>\n",
       "      <th>15605684</th>\n",
       "      <td>664.0</td>\n",
       "      <td>31.000000</td>\n",
       "      <td>7.0</td>\n",
       "      <td>104158.84</td>\n",
       "      <td>1.0</td>\n",
       "      <td>134169.85</td>\n",
       "    </tr>\n",
       "  </tbody>\n",
       "</table>\n",
       "</div>"
      ],
      "text/plain": [
       "             credit_score        age  tenure    balance  products_number  \\\n",
       "customer_id                                                                \n",
       "15704651            514.0  26.000000     1.0       0.00              2.0   \n",
       "15736397            544.0  71.296396     1.0   96471.20              1.0   \n",
       "15596405            546.0  25.000000     7.0  127728.24              2.0   \n",
       "15623595            586.0  28.000000     2.0  100654.80              2.0   \n",
       "15605684            664.0  31.000000     7.0  104158.84              1.0   \n",
       "\n",
       "             estimated_salary  \n",
       "customer_id                    \n",
       "15704651            121551.93  \n",
       "15736397             35550.97  \n",
       "15596405            105279.74  \n",
       "15623595             92067.35  \n",
       "15605684            134169.85  "
      ]
     },
     "execution_count": 23,
     "metadata": {},
     "output_type": "execute_result"
    }
   ],
   "source": [
    "# impute missing numeric values in test dataset\n",
    "X_test_numeric = numeric_imputer.transform(X_test.select_dtypes(include=numerics))\n",
    "X_test_numeric = pd.DataFrame(X_test_numeric, columns=numeric_columns, index=X_test.index)\n",
    "X_test_numeric.head()"
   ]
  },
  {
   "cell_type": "code",
   "execution_count": 24,
   "metadata": {},
   "outputs": [
    {
     "data": {
      "text/html": [
       "<div>\n",
       "<style scoped>\n",
       "    .dataframe tbody tr th:only-of-type {\n",
       "        vertical-align: middle;\n",
       "    }\n",
       "\n",
       "    .dataframe tbody tr th {\n",
       "        vertical-align: top;\n",
       "    }\n",
       "\n",
       "    .dataframe thead th {\n",
       "        text-align: right;\n",
       "    }\n",
       "</style>\n",
       "<table border=\"1\" class=\"dataframe\">\n",
       "  <thead>\n",
       "    <tr style=\"text-align: right;\">\n",
       "      <th></th>\n",
       "      <th>country</th>\n",
       "      <th>gender</th>\n",
       "      <th>credit_card</th>\n",
       "      <th>active_member</th>\n",
       "    </tr>\n",
       "    <tr>\n",
       "      <th>customer_id</th>\n",
       "      <th></th>\n",
       "      <th></th>\n",
       "      <th></th>\n",
       "      <th></th>\n",
       "    </tr>\n",
       "  </thead>\n",
       "  <tbody>\n",
       "    <tr>\n",
       "      <th>15733705</th>\n",
       "      <td>France</td>\n",
       "      <td>Female</td>\n",
       "      <td>no</td>\n",
       "      <td>yes</td>\n",
       "    </tr>\n",
       "    <tr>\n",
       "      <th>15580719</th>\n",
       "      <td>France</td>\n",
       "      <td>Female</td>\n",
       "      <td>yes</td>\n",
       "      <td>yes</td>\n",
       "    </tr>\n",
       "    <tr>\n",
       "      <th>15613923</th>\n",
       "      <td>Spain</td>\n",
       "      <td>Female</td>\n",
       "      <td>no</td>\n",
       "      <td>yes</td>\n",
       "    </tr>\n",
       "    <tr>\n",
       "      <th>15624703</th>\n",
       "      <td>Germany</td>\n",
       "      <td>Male</td>\n",
       "      <td>yes</td>\n",
       "      <td>no</td>\n",
       "    </tr>\n",
       "    <tr>\n",
       "      <th>15743817</th>\n",
       "      <td>Germany</td>\n",
       "      <td>Male</td>\n",
       "      <td>yes</td>\n",
       "      <td>no</td>\n",
       "    </tr>\n",
       "  </tbody>\n",
       "</table>\n",
       "</div>"
      ],
      "text/plain": [
       "             country  gender credit_card active_member\n",
       "customer_id                                           \n",
       "15733705      France  Female          no           yes\n",
       "15580719      France  Female         yes           yes\n",
       "15613923       Spain  Female          no           yes\n",
       "15624703     Germany    Male         yes            no\n",
       "15743817     Germany    Male         yes            no"
      ]
     },
     "execution_count": 24,
     "metadata": {},
     "output_type": "execute_result"
    }
   ],
   "source": [
    "# Impute missing categorical values\n",
    "categorical_imputer = SimpleImputer(missing_values=np.nan, strategy='most_frequent')\n",
    "X_train_categorical = categorical_imputer.fit_transform(X_train.select_dtypes(exclude=numerics))\n",
    "X_train_categorical = pd.DataFrame(X_train_categorical, columns=categorical_columns, index=X_train.index)\n",
    "X_train_categorical.head()"
   ]
  },
  {
   "cell_type": "code",
   "execution_count": 25,
   "metadata": {},
   "outputs": [
    {
     "data": {
      "text/html": [
       "<div>\n",
       "<style scoped>\n",
       "    .dataframe tbody tr th:only-of-type {\n",
       "        vertical-align: middle;\n",
       "    }\n",
       "\n",
       "    .dataframe tbody tr th {\n",
       "        vertical-align: top;\n",
       "    }\n",
       "\n",
       "    .dataframe thead th {\n",
       "        text-align: right;\n",
       "    }\n",
       "</style>\n",
       "<table border=\"1\" class=\"dataframe\">\n",
       "  <thead>\n",
       "    <tr style=\"text-align: right;\">\n",
       "      <th></th>\n",
       "      <th>country</th>\n",
       "      <th>gender</th>\n",
       "      <th>credit_card</th>\n",
       "      <th>active_member</th>\n",
       "    </tr>\n",
       "    <tr>\n",
       "      <th>customer_id</th>\n",
       "      <th></th>\n",
       "      <th></th>\n",
       "      <th></th>\n",
       "      <th></th>\n",
       "    </tr>\n",
       "  </thead>\n",
       "  <tbody>\n",
       "    <tr>\n",
       "      <th>15704651</th>\n",
       "      <td>France</td>\n",
       "      <td>Male</td>\n",
       "      <td>no</td>\n",
       "      <td>no</td>\n",
       "    </tr>\n",
       "    <tr>\n",
       "      <th>15736397</th>\n",
       "      <td>France</td>\n",
       "      <td>Male</td>\n",
       "      <td>yes</td>\n",
       "      <td>no</td>\n",
       "    </tr>\n",
       "    <tr>\n",
       "      <th>15596405</th>\n",
       "      <td>Spain</td>\n",
       "      <td>Male</td>\n",
       "      <td>yes</td>\n",
       "      <td>yes</td>\n",
       "    </tr>\n",
       "    <tr>\n",
       "      <th>15623595</th>\n",
       "      <td>Spain</td>\n",
       "      <td>Female</td>\n",
       "      <td>yes</td>\n",
       "      <td>yes</td>\n",
       "    </tr>\n",
       "    <tr>\n",
       "      <th>15605684</th>\n",
       "      <td>France</td>\n",
       "      <td>Female</td>\n",
       "      <td>yes</td>\n",
       "      <td>no</td>\n",
       "    </tr>\n",
       "  </tbody>\n",
       "</table>\n",
       "</div>"
      ],
      "text/plain": [
       "            country  gender credit_card active_member\n",
       "customer_id                                          \n",
       "15704651     France    Male          no            no\n",
       "15736397     France    Male         yes            no\n",
       "15596405      Spain    Male         yes           yes\n",
       "15623595      Spain  Female         yes           yes\n",
       "15605684     France  Female         yes            no"
      ]
     },
     "execution_count": 25,
     "metadata": {},
     "output_type": "execute_result"
    }
   ],
   "source": [
    "# Impute missing categorical values in test dataset\n",
    "X_test_categorical = categorical_imputer.transform(X_test.select_dtypes(exclude=numerics))\n",
    "X_test_categorical = pd.DataFrame(X_test_categorical, columns=categorical_columns, index=X_test.index)\n",
    "X_test_categorical.head()"
   ]
  },
  {
   "cell_type": "code",
   "execution_count": 26,
   "metadata": {},
   "outputs": [],
   "source": [
    "# Save imputers both numerical and categorical\n",
    "with open('../artifacts/numeric_imputer.pickle', 'wb') as filename:\n",
    "    pickle.dump(numeric_imputer, filename)\n",
    "\n",
    "with open('../artifacts/categorical_imputer.pickle', 'wb') as filename:\n",
    "    pickle.dump(categorical_imputer, filename)"
   ]
  },
  {
   "cell_type": "code",
   "execution_count": 27,
   "metadata": {},
   "outputs": [
    {
     "data": {
      "text/html": [
       "<div>\n",
       "<style scoped>\n",
       "    .dataframe tbody tr th:only-of-type {\n",
       "        vertical-align: middle;\n",
       "    }\n",
       "\n",
       "    .dataframe tbody tr th {\n",
       "        vertical-align: top;\n",
       "    }\n",
       "\n",
       "    .dataframe thead th {\n",
       "        text-align: right;\n",
       "    }\n",
       "</style>\n",
       "<table border=\"1\" class=\"dataframe\">\n",
       "  <thead>\n",
       "    <tr style=\"text-align: right;\">\n",
       "      <th></th>\n",
       "      <th>credit_score</th>\n",
       "      <th>age</th>\n",
       "      <th>tenure</th>\n",
       "      <th>balance</th>\n",
       "      <th>products_number</th>\n",
       "      <th>estimated_salary</th>\n",
       "      <th>country</th>\n",
       "      <th>gender</th>\n",
       "      <th>credit_card</th>\n",
       "      <th>active_member</th>\n",
       "    </tr>\n",
       "    <tr>\n",
       "      <th>customer_id</th>\n",
       "      <th></th>\n",
       "      <th></th>\n",
       "      <th></th>\n",
       "      <th></th>\n",
       "      <th></th>\n",
       "      <th></th>\n",
       "      <th></th>\n",
       "      <th></th>\n",
       "      <th></th>\n",
       "      <th></th>\n",
       "    </tr>\n",
       "  </thead>\n",
       "  <tbody>\n",
       "    <tr>\n",
       "      <th>15733705</th>\n",
       "      <td>577.0</td>\n",
       "      <td>30.000000</td>\n",
       "      <td>8.0</td>\n",
       "      <td>92472.10</td>\n",
       "      <td>2.0</td>\n",
       "      <td>126434.61</td>\n",
       "      <td>France</td>\n",
       "      <td>Female</td>\n",
       "      <td>no</td>\n",
       "      <td>yes</td>\n",
       "    </tr>\n",
       "    <tr>\n",
       "      <th>15580719</th>\n",
       "      <td>697.0</td>\n",
       "      <td>71.657071</td>\n",
       "      <td>10.0</td>\n",
       "      <td>0.00</td>\n",
       "      <td>2.0</td>\n",
       "      <td>79734.23</td>\n",
       "      <td>France</td>\n",
       "      <td>Female</td>\n",
       "      <td>yes</td>\n",
       "      <td>yes</td>\n",
       "    </tr>\n",
       "    <tr>\n",
       "      <th>15613923</th>\n",
       "      <td>581.0</td>\n",
       "      <td>43.000000</td>\n",
       "      <td>4.0</td>\n",
       "      <td>170172.90</td>\n",
       "      <td>1.0</td>\n",
       "      <td>100236.02</td>\n",
       "      <td>Spain</td>\n",
       "      <td>Female</td>\n",
       "      <td>no</td>\n",
       "      <td>yes</td>\n",
       "    </tr>\n",
       "    <tr>\n",
       "      <th>15624703</th>\n",
       "      <td>550.0</td>\n",
       "      <td>35.000000</td>\n",
       "      <td>9.0</td>\n",
       "      <td>129847.75</td>\n",
       "      <td>2.0</td>\n",
       "      <td>106673.45</td>\n",
       "      <td>Germany</td>\n",
       "      <td>Male</td>\n",
       "      <td>yes</td>\n",
       "      <td>no</td>\n",
       "    </tr>\n",
       "    <tr>\n",
       "      <th>15743817</th>\n",
       "      <td>621.0</td>\n",
       "      <td>40.000000</td>\n",
       "      <td>8.0</td>\n",
       "      <td>174126.75</td>\n",
       "      <td>3.0</td>\n",
       "      <td>172490.78</td>\n",
       "      <td>Germany</td>\n",
       "      <td>Male</td>\n",
       "      <td>yes</td>\n",
       "      <td>no</td>\n",
       "    </tr>\n",
       "  </tbody>\n",
       "</table>\n",
       "</div>"
      ],
      "text/plain": [
       "             credit_score        age  tenure    balance  products_number  \\\n",
       "customer_id                                                                \n",
       "15733705            577.0  30.000000     8.0   92472.10              2.0   \n",
       "15580719            697.0  71.657071    10.0       0.00              2.0   \n",
       "15613923            581.0  43.000000     4.0  170172.90              1.0   \n",
       "15624703            550.0  35.000000     9.0  129847.75              2.0   \n",
       "15743817            621.0  40.000000     8.0  174126.75              3.0   \n",
       "\n",
       "             estimated_salary  country  gender credit_card active_member  \n",
       "customer_id                                                               \n",
       "15733705            126434.61   France  Female          no           yes  \n",
       "15580719             79734.23   France  Female         yes           yes  \n",
       "15613923            100236.02    Spain  Female          no           yes  \n",
       "15624703            106673.45  Germany    Male         yes            no  \n",
       "15743817            172490.78  Germany    Male         yes            no  "
      ]
     },
     "execution_count": 27,
     "metadata": {},
     "output_type": "execute_result"
    }
   ],
   "source": [
    "X_train = pd.concat([X_train_numeric, X_train_categorical], axis=1)\n",
    "X_train.head()"
   ]
  },
  {
   "cell_type": "code",
   "execution_count": 28,
   "metadata": {},
   "outputs": [
    {
     "data": {
      "text/html": [
       "<div>\n",
       "<style scoped>\n",
       "    .dataframe tbody tr th:only-of-type {\n",
       "        vertical-align: middle;\n",
       "    }\n",
       "\n",
       "    .dataframe tbody tr th {\n",
       "        vertical-align: top;\n",
       "    }\n",
       "\n",
       "    .dataframe thead th {\n",
       "        text-align: right;\n",
       "    }\n",
       "</style>\n",
       "<table border=\"1\" class=\"dataframe\">\n",
       "  <thead>\n",
       "    <tr style=\"text-align: right;\">\n",
       "      <th></th>\n",
       "      <th>credit_score</th>\n",
       "      <th>age</th>\n",
       "      <th>tenure</th>\n",
       "      <th>balance</th>\n",
       "      <th>products_number</th>\n",
       "      <th>estimated_salary</th>\n",
       "      <th>country</th>\n",
       "      <th>gender</th>\n",
       "      <th>credit_card</th>\n",
       "      <th>active_member</th>\n",
       "    </tr>\n",
       "    <tr>\n",
       "      <th>customer_id</th>\n",
       "      <th></th>\n",
       "      <th></th>\n",
       "      <th></th>\n",
       "      <th></th>\n",
       "      <th></th>\n",
       "      <th></th>\n",
       "      <th></th>\n",
       "      <th></th>\n",
       "      <th></th>\n",
       "      <th></th>\n",
       "    </tr>\n",
       "  </thead>\n",
       "  <tbody>\n",
       "    <tr>\n",
       "      <th>15704651</th>\n",
       "      <td>514.0</td>\n",
       "      <td>26.000000</td>\n",
       "      <td>1.0</td>\n",
       "      <td>0.00</td>\n",
       "      <td>2.0</td>\n",
       "      <td>121551.93</td>\n",
       "      <td>France</td>\n",
       "      <td>Male</td>\n",
       "      <td>no</td>\n",
       "      <td>no</td>\n",
       "    </tr>\n",
       "    <tr>\n",
       "      <th>15736397</th>\n",
       "      <td>544.0</td>\n",
       "      <td>71.296396</td>\n",
       "      <td>1.0</td>\n",
       "      <td>96471.20</td>\n",
       "      <td>1.0</td>\n",
       "      <td>35550.97</td>\n",
       "      <td>France</td>\n",
       "      <td>Male</td>\n",
       "      <td>yes</td>\n",
       "      <td>no</td>\n",
       "    </tr>\n",
       "    <tr>\n",
       "      <th>15596405</th>\n",
       "      <td>546.0</td>\n",
       "      <td>25.000000</td>\n",
       "      <td>7.0</td>\n",
       "      <td>127728.24</td>\n",
       "      <td>2.0</td>\n",
       "      <td>105279.74</td>\n",
       "      <td>Spain</td>\n",
       "      <td>Male</td>\n",
       "      <td>yes</td>\n",
       "      <td>yes</td>\n",
       "    </tr>\n",
       "    <tr>\n",
       "      <th>15623595</th>\n",
       "      <td>586.0</td>\n",
       "      <td>28.000000</td>\n",
       "      <td>2.0</td>\n",
       "      <td>100654.80</td>\n",
       "      <td>2.0</td>\n",
       "      <td>92067.35</td>\n",
       "      <td>Spain</td>\n",
       "      <td>Female</td>\n",
       "      <td>yes</td>\n",
       "      <td>yes</td>\n",
       "    </tr>\n",
       "    <tr>\n",
       "      <th>15605684</th>\n",
       "      <td>664.0</td>\n",
       "      <td>31.000000</td>\n",
       "      <td>7.0</td>\n",
       "      <td>104158.84</td>\n",
       "      <td>1.0</td>\n",
       "      <td>134169.85</td>\n",
       "      <td>France</td>\n",
       "      <td>Female</td>\n",
       "      <td>yes</td>\n",
       "      <td>no</td>\n",
       "    </tr>\n",
       "  </tbody>\n",
       "</table>\n",
       "</div>"
      ],
      "text/plain": [
       "             credit_score        age  tenure    balance  products_number  \\\n",
       "customer_id                                                                \n",
       "15704651            514.0  26.000000     1.0       0.00              2.0   \n",
       "15736397            544.0  71.296396     1.0   96471.20              1.0   \n",
       "15596405            546.0  25.000000     7.0  127728.24              2.0   \n",
       "15623595            586.0  28.000000     2.0  100654.80              2.0   \n",
       "15605684            664.0  31.000000     7.0  104158.84              1.0   \n",
       "\n",
       "             estimated_salary country  gender credit_card active_member  \n",
       "customer_id                                                              \n",
       "15704651            121551.93  France    Male          no            no  \n",
       "15736397             35550.97  France    Male         yes            no  \n",
       "15596405            105279.74   Spain    Male         yes           yes  \n",
       "15623595             92067.35   Spain  Female         yes           yes  \n",
       "15605684            134169.85  France  Female         yes            no  "
      ]
     },
     "execution_count": 28,
     "metadata": {},
     "output_type": "execute_result"
    }
   ],
   "source": [
    "X_test = pd.concat([X_test_numeric, X_test_categorical], axis=1)\n",
    "X_test.head()"
   ]
  },
  {
   "cell_type": "code",
   "execution_count": 29,
   "metadata": {},
   "outputs": [
    {
     "data": {
      "image/png": "[encoded data removed]",
      "text/plain": [
       "<Figure size 432x288 with 1 Axes>"
      ]
     },
     "metadata": {
      "needs_background": "light"
     },
     "output_type": "display_data"
    }
   ],
   "source": [
    "# Let's see if we have any missing data, luckily we don't!\n",
    "sns.heatmap(X_test.isna(), yticklabels = False, cbar = False, cmap=\"Blues\")\n",
    "plt.show()"
   ]
  },
  {
   "attachments": {},
   "cell_type": "markdown",
   "metadata": {},
   "source": [
    "## Visualize Categorical Features"
   ]
  },
  {
   "cell_type": "code",
   "execution_count": 30,
   "metadata": {},
   "outputs": [
    {
     "name": "stdout",
     "output_type": "stream",
     "text": [
      "Value counts in category country: \n",
      "France     2646\n",
      "Germany    1187\n",
      "Spain      1167\n",
      "Name: country, dtype: int64\n",
      "Value counts in category gender: \n",
      "Male      2842\n",
      "Female    2158\n",
      "Name: gender, dtype: int64\n",
      "Value counts in category credit_card: \n",
      "yes    3575\n",
      "no     1425\n",
      "Name: credit_card, dtype: int64\n",
      "Value counts in category active_member: \n",
      "yes    2717\n",
      "no     2283\n",
      "Name: active_member, dtype: int64\n"
     ]
    }
   ],
   "source": [
    "# this is important since we might have rare labels which isnt good for grouping customers; the numeric equivalent would be outliers\n",
    "for category in categorical_columns:\n",
    "    print('Value counts in category {}: \\n{}'.format(category, X_train[category].value_counts()))"
   ]
  },
  {
   "attachments": {},
   "cell_type": "markdown",
   "metadata": {},
   "source": [
    "## Encode Rare Labels"
   ]
  },
  {
   "cell_type": "code",
   "execution_count": 31,
   "metadata": {},
   "outputs": [
    {
     "name": "stderr",
     "output_type": "stream",
     "text": [
      "The number of unique categories for variable country is less than that indicated in n_categories. Thus, all categories will be considered frequent\n",
      "The number of unique categories for variable gender is less than that indicated in n_categories. Thus, all categories will be considered frequent\n",
      "The number of unique categories for variable credit_card is less than that indicated in n_categories. Thus, all categories will be considered frequent\n",
      "The number of unique categories for variable active_member is less than that indicated in n_categories. Thus, all categories will be considered frequent\n"
     ]
    },
    {
     "data": {
      "text/html": [
       "<div>\n",
       "<style scoped>\n",
       "    .dataframe tbody tr th:only-of-type {\n",
       "        vertical-align: middle;\n",
       "    }\n",
       "\n",
       "    .dataframe tbody tr th {\n",
       "        vertical-align: top;\n",
       "    }\n",
       "\n",
       "    .dataframe thead th {\n",
       "        text-align: right;\n",
       "    }\n",
       "</style>\n",
       "<table border=\"1\" class=\"dataframe\">\n",
       "  <thead>\n",
       "    <tr style=\"text-align: right;\">\n",
       "      <th></th>\n",
       "      <th>country</th>\n",
       "      <th>gender</th>\n",
       "      <th>credit_card</th>\n",
       "      <th>active_member</th>\n",
       "    </tr>\n",
       "    <tr>\n",
       "      <th>customer_id</th>\n",
       "      <th></th>\n",
       "      <th></th>\n",
       "      <th></th>\n",
       "      <th></th>\n",
       "    </tr>\n",
       "  </thead>\n",
       "  <tbody>\n",
       "    <tr>\n",
       "      <th>15733705</th>\n",
       "      <td>France</td>\n",
       "      <td>Female</td>\n",
       "      <td>no</td>\n",
       "      <td>yes</td>\n",
       "    </tr>\n",
       "    <tr>\n",
       "      <th>15580719</th>\n",
       "      <td>France</td>\n",
       "      <td>Female</td>\n",
       "      <td>yes</td>\n",
       "      <td>yes</td>\n",
       "    </tr>\n",
       "    <tr>\n",
       "      <th>15613923</th>\n",
       "      <td>Spain</td>\n",
       "      <td>Female</td>\n",
       "      <td>no</td>\n",
       "      <td>yes</td>\n",
       "    </tr>\n",
       "    <tr>\n",
       "      <th>15624703</th>\n",
       "      <td>Germany</td>\n",
       "      <td>Male</td>\n",
       "      <td>yes</td>\n",
       "      <td>no</td>\n",
       "    </tr>\n",
       "    <tr>\n",
       "      <th>15743817</th>\n",
       "      <td>Germany</td>\n",
       "      <td>Male</td>\n",
       "      <td>yes</td>\n",
       "      <td>no</td>\n",
       "    </tr>\n",
       "  </tbody>\n",
       "</table>\n",
       "</div>"
      ],
      "text/plain": [
       "             country  gender credit_card active_member\n",
       "customer_id                                           \n",
       "15733705      France  Female          no           yes\n",
       "15580719      France  Female         yes           yes\n",
       "15613923       Spain  Female          no           yes\n",
       "15624703     Germany    Male         yes            no\n",
       "15743817     Germany    Male         yes            no"
      ]
     },
     "execution_count": 31,
     "metadata": {},
     "output_type": "execute_result"
    }
   ],
   "source": [
    "# encode rare labels in train data\n",
    "rare_encoder = RareLabelEncoder(tol=0.05, n_categories=10)\n",
    "X_train[categorical_columns] = rare_encoder.fit_transform(X_train[categorical_columns])\n",
    "X_train[categorical_columns].head()"
   ]
  },
  {
   "cell_type": "code",
   "execution_count": 32,
   "metadata": {},
   "outputs": [
    {
     "data": {
      "text/html": [
       "<div>\n",
       "<style scoped>\n",
       "    .dataframe tbody tr th:only-of-type {\n",
       "        vertical-align: middle;\n",
       "    }\n",
       "\n",
       "    .dataframe tbody tr th {\n",
       "        vertical-align: top;\n",
       "    }\n",
       "\n",
       "    .dataframe thead th {\n",
       "        text-align: right;\n",
       "    }\n",
       "</style>\n",
       "<table border=\"1\" class=\"dataframe\">\n",
       "  <thead>\n",
       "    <tr style=\"text-align: right;\">\n",
       "      <th></th>\n",
       "      <th>country</th>\n",
       "      <th>gender</th>\n",
       "      <th>credit_card</th>\n",
       "      <th>active_member</th>\n",
       "    </tr>\n",
       "    <tr>\n",
       "      <th>customer_id</th>\n",
       "      <th></th>\n",
       "      <th></th>\n",
       "      <th></th>\n",
       "      <th></th>\n",
       "    </tr>\n",
       "  </thead>\n",
       "  <tbody>\n",
       "    <tr>\n",
       "      <th>15704651</th>\n",
       "      <td>France</td>\n",
       "      <td>Male</td>\n",
       "      <td>no</td>\n",
       "      <td>no</td>\n",
       "    </tr>\n",
       "    <tr>\n",
       "      <th>15736397</th>\n",
       "      <td>France</td>\n",
       "      <td>Male</td>\n",
       "      <td>yes</td>\n",
       "      <td>no</td>\n",
       "    </tr>\n",
       "    <tr>\n",
       "      <th>15596405</th>\n",
       "      <td>Spain</td>\n",
       "      <td>Male</td>\n",
       "      <td>yes</td>\n",
       "      <td>yes</td>\n",
       "    </tr>\n",
       "    <tr>\n",
       "      <th>15623595</th>\n",
       "      <td>Spain</td>\n",
       "      <td>Female</td>\n",
       "      <td>yes</td>\n",
       "      <td>yes</td>\n",
       "    </tr>\n",
       "    <tr>\n",
       "      <th>15605684</th>\n",
       "      <td>France</td>\n",
       "      <td>Female</td>\n",
       "      <td>yes</td>\n",
       "      <td>no</td>\n",
       "    </tr>\n",
       "  </tbody>\n",
       "</table>\n",
       "</div>"
      ],
      "text/plain": [
       "            country  gender credit_card active_member\n",
       "customer_id                                          \n",
       "15704651     France    Male          no            no\n",
       "15736397     France    Male         yes            no\n",
       "15596405      Spain    Male         yes           yes\n",
       "15623595      Spain  Female         yes           yes\n",
       "15605684     France  Female         yes            no"
      ]
     },
     "execution_count": 32,
     "metadata": {},
     "output_type": "execute_result"
    }
   ],
   "source": [
    "# encode rare labels in test data\n",
    "X_test[categorical_columns] = rare_encoder.transform(X_test[categorical_columns])\n",
    "X_test[categorical_columns].head()"
   ]
  },
  {
   "cell_type": "code",
   "execution_count": 33,
   "metadata": {},
   "outputs": [],
   "source": [
    "# Save rare label encoder\n",
    "with open('../artifacts/rare_encoder.pickle', 'wb') as filename:\n",
    "    pickle.dump(rare_encoder, filename)"
   ]
  },
  {
   "cell_type": "markdown",
   "metadata": {},
   "source": [
    "## Visualize Numerical Features"
   ]
  },
  {
   "cell_type": "code",
   "execution_count": 34,
   "metadata": {},
   "outputs": [
    {
     "data": {
      "image/png": "[encoded data removed]",
      "text/plain": [
       "<Figure size 432x288 with 1 Axes>"
      ]
     },
     "metadata": {
      "needs_background": "light"
     },
     "output_type": "display_data"
    },
    {
     "data": {
      "image/png": "[encoded data removed]",
      "text/plain": [
       "<Figure size 432x288 with 1 Axes>"
      ]
     },
     "metadata": {
      "needs_background": "light"
     },
     "output_type": "display_data"
    },
    {
     "data": {
      "image/png": "[encoded data removed]",
      "text/plain": [
       "<Figure size 432x288 with 1 Axes>"
      ]
     },
     "metadata": {
      "needs_background": "light"
     },
     "output_type": "display_data"
    },
    {
     "data": {
      "image/png": "[encoded data removed]",
      "text/plain": [
       "<Figure size 432x288 with 1 Axes>"
      ]
     },
     "metadata": {
      "needs_background": "light"
     },
     "output_type": "display_data"
    },
    {
     "data": {
      "image/png": "[encoded data removed]",
      "text/plain": [
       "<Figure size 432x288 with 1 Axes>"
      ]
     },
     "metadata": {
      "needs_background": "light"
     },
     "output_type": "display_data"
    },
    {
     "data": {
      "image/png": "[encoded data removed]",
      "text/plain": [
       "<Figure size 432x288 with 1 Axes>"
      ]
     },
     "metadata": {
      "needs_background": "light"
     },
     "output_type": "display_data"
    }
   ],
   "source": [
    "# plot the distributions\n",
    "for col in numeric_columns:\n",
    "    plt.hist(X_train[col])\n",
    "    plt.title(col)\n",
    "    plt.show()"
   ]
  },
  {
   "attachments": {},
   "cell_type": "markdown",
   "metadata": {},
   "source": [
    "## Remove Outliers"
   ]
  },
  {
   "cell_type": "code",
   "execution_count": 35,
   "metadata": {},
   "outputs": [],
   "source": [
    "# set up the capper\n",
    "capper = Winsorizer(\n",
    "    capping_method='gaussian', \n",
    "    tail='right', \n",
    "    fold=3, \n",
    "    variables=numeric_columns)"
   ]
  },
  {
   "cell_type": "code",
   "execution_count": 36,
   "metadata": {},
   "outputs": [
    {
     "data": {
      "text/html": [
       "<div>\n",
       "<style scoped>\n",
       "    .dataframe tbody tr th:only-of-type {\n",
       "        vertical-align: middle;\n",
       "    }\n",
       "\n",
       "    .dataframe tbody tr th {\n",
       "        vertical-align: top;\n",
       "    }\n",
       "\n",
       "    .dataframe thead th {\n",
       "        text-align: right;\n",
       "    }\n",
       "</style>\n",
       "<table border=\"1\" class=\"dataframe\">\n",
       "  <thead>\n",
       "    <tr style=\"text-align: right;\">\n",
       "      <th></th>\n",
       "      <th>credit_score</th>\n",
       "      <th>age</th>\n",
       "      <th>tenure</th>\n",
       "      <th>balance</th>\n",
       "      <th>products_number</th>\n",
       "      <th>estimated_salary</th>\n",
       "      <th>country</th>\n",
       "      <th>gender</th>\n",
       "      <th>credit_card</th>\n",
       "      <th>active_member</th>\n",
       "    </tr>\n",
       "    <tr>\n",
       "      <th>customer_id</th>\n",
       "      <th></th>\n",
       "      <th></th>\n",
       "      <th></th>\n",
       "      <th></th>\n",
       "      <th></th>\n",
       "      <th></th>\n",
       "      <th></th>\n",
       "      <th></th>\n",
       "      <th></th>\n",
       "      <th></th>\n",
       "    </tr>\n",
       "  </thead>\n",
       "  <tbody>\n",
       "    <tr>\n",
       "      <th>15733705</th>\n",
       "      <td>577.0</td>\n",
       "      <td>30.000000</td>\n",
       "      <td>8.0</td>\n",
       "      <td>92472.10</td>\n",
       "      <td>2.0</td>\n",
       "      <td>126434.61</td>\n",
       "      <td>France</td>\n",
       "      <td>Female</td>\n",
       "      <td>no</td>\n",
       "      <td>yes</td>\n",
       "    </tr>\n",
       "    <tr>\n",
       "      <th>15580719</th>\n",
       "      <td>697.0</td>\n",
       "      <td>71.657071</td>\n",
       "      <td>10.0</td>\n",
       "      <td>0.00</td>\n",
       "      <td>2.0</td>\n",
       "      <td>79734.23</td>\n",
       "      <td>France</td>\n",
       "      <td>Female</td>\n",
       "      <td>yes</td>\n",
       "      <td>yes</td>\n",
       "    </tr>\n",
       "    <tr>\n",
       "      <th>15613923</th>\n",
       "      <td>581.0</td>\n",
       "      <td>43.000000</td>\n",
       "      <td>4.0</td>\n",
       "      <td>170172.90</td>\n",
       "      <td>1.0</td>\n",
       "      <td>100236.02</td>\n",
       "      <td>Spain</td>\n",
       "      <td>Female</td>\n",
       "      <td>no</td>\n",
       "      <td>yes</td>\n",
       "    </tr>\n",
       "    <tr>\n",
       "      <th>15624703</th>\n",
       "      <td>550.0</td>\n",
       "      <td>35.000000</td>\n",
       "      <td>9.0</td>\n",
       "      <td>129847.75</td>\n",
       "      <td>2.0</td>\n",
       "      <td>106673.45</td>\n",
       "      <td>Germany</td>\n",
       "      <td>Male</td>\n",
       "      <td>yes</td>\n",
       "      <td>no</td>\n",
       "    </tr>\n",
       "    <tr>\n",
       "      <th>15743817</th>\n",
       "      <td>621.0</td>\n",
       "      <td>40.000000</td>\n",
       "      <td>8.0</td>\n",
       "      <td>174126.75</td>\n",
       "      <td>3.0</td>\n",
       "      <td>172490.78</td>\n",
       "      <td>Germany</td>\n",
       "      <td>Male</td>\n",
       "      <td>yes</td>\n",
       "      <td>no</td>\n",
       "    </tr>\n",
       "  </tbody>\n",
       "</table>\n",
       "</div>"
      ],
      "text/plain": [
       "             credit_score        age  tenure    balance  products_number  \\\n",
       "customer_id                                                                \n",
       "15733705            577.0  30.000000     8.0   92472.10              2.0   \n",
       "15580719            697.0  71.657071    10.0       0.00              2.0   \n",
       "15613923            581.0  43.000000     4.0  170172.90              1.0   \n",
       "15624703            550.0  35.000000     9.0  129847.75              2.0   \n",
       "15743817            621.0  40.000000     8.0  174126.75              3.0   \n",
       "\n",
       "             estimated_salary  country  gender credit_card active_member  \n",
       "customer_id                                                               \n",
       "15733705            126434.61   France  Female          no           yes  \n",
       "15580719             79734.23   France  Female         yes           yes  \n",
       "15613923            100236.02    Spain  Female          no           yes  \n",
       "15624703            106673.45  Germany    Male         yes            no  \n",
       "15743817            172490.78  Germany    Male         yes            no  "
      ]
     },
     "execution_count": 36,
     "metadata": {},
     "output_type": "execute_result"
    }
   ],
   "source": [
    "# fit the capper on train data\n",
    "X_train[numeric_columns] = capper.fit_transform(X_train[numeric_columns])\n",
    "X_train.head()"
   ]
  },
  {
   "cell_type": "code",
   "execution_count": 37,
   "metadata": {},
   "outputs": [
    {
     "data": {
      "text/html": [
       "<div>\n",
       "<style scoped>\n",
       "    .dataframe tbody tr th:only-of-type {\n",
       "        vertical-align: middle;\n",
       "    }\n",
       "\n",
       "    .dataframe tbody tr th {\n",
       "        vertical-align: top;\n",
       "    }\n",
       "\n",
       "    .dataframe thead th {\n",
       "        text-align: right;\n",
       "    }\n",
       "</style>\n",
       "<table border=\"1\" class=\"dataframe\">\n",
       "  <thead>\n",
       "    <tr style=\"text-align: right;\">\n",
       "      <th></th>\n",
       "      <th>credit_score</th>\n",
       "      <th>age</th>\n",
       "      <th>tenure</th>\n",
       "      <th>balance</th>\n",
       "      <th>products_number</th>\n",
       "      <th>estimated_salary</th>\n",
       "      <th>country</th>\n",
       "      <th>gender</th>\n",
       "      <th>credit_card</th>\n",
       "      <th>active_member</th>\n",
       "    </tr>\n",
       "    <tr>\n",
       "      <th>customer_id</th>\n",
       "      <th></th>\n",
       "      <th></th>\n",
       "      <th></th>\n",
       "      <th></th>\n",
       "      <th></th>\n",
       "      <th></th>\n",
       "      <th></th>\n",
       "      <th></th>\n",
       "      <th></th>\n",
       "      <th></th>\n",
       "    </tr>\n",
       "  </thead>\n",
       "  <tbody>\n",
       "    <tr>\n",
       "      <th>15704651</th>\n",
       "      <td>514.0</td>\n",
       "      <td>26.000000</td>\n",
       "      <td>1.0</td>\n",
       "      <td>0.00</td>\n",
       "      <td>2.0</td>\n",
       "      <td>121551.93</td>\n",
       "      <td>France</td>\n",
       "      <td>Male</td>\n",
       "      <td>no</td>\n",
       "      <td>no</td>\n",
       "    </tr>\n",
       "    <tr>\n",
       "      <th>15736397</th>\n",
       "      <td>544.0</td>\n",
       "      <td>71.296396</td>\n",
       "      <td>1.0</td>\n",
       "      <td>96471.20</td>\n",
       "      <td>1.0</td>\n",
       "      <td>35550.97</td>\n",
       "      <td>France</td>\n",
       "      <td>Male</td>\n",
       "      <td>yes</td>\n",
       "      <td>no</td>\n",
       "    </tr>\n",
       "    <tr>\n",
       "      <th>15596405</th>\n",
       "      <td>546.0</td>\n",
       "      <td>25.000000</td>\n",
       "      <td>7.0</td>\n",
       "      <td>127728.24</td>\n",
       "      <td>2.0</td>\n",
       "      <td>105279.74</td>\n",
       "      <td>Spain</td>\n",
       "      <td>Male</td>\n",
       "      <td>yes</td>\n",
       "      <td>yes</td>\n",
       "    </tr>\n",
       "    <tr>\n",
       "      <th>15623595</th>\n",
       "      <td>586.0</td>\n",
       "      <td>28.000000</td>\n",
       "      <td>2.0</td>\n",
       "      <td>100654.80</td>\n",
       "      <td>2.0</td>\n",
       "      <td>92067.35</td>\n",
       "      <td>Spain</td>\n",
       "      <td>Female</td>\n",
       "      <td>yes</td>\n",
       "      <td>yes</td>\n",
       "    </tr>\n",
       "    <tr>\n",
       "      <th>15605684</th>\n",
       "      <td>664.0</td>\n",
       "      <td>31.000000</td>\n",
       "      <td>7.0</td>\n",
       "      <td>104158.84</td>\n",
       "      <td>1.0</td>\n",
       "      <td>134169.85</td>\n",
       "      <td>France</td>\n",
       "      <td>Female</td>\n",
       "      <td>yes</td>\n",
       "      <td>no</td>\n",
       "    </tr>\n",
       "  </tbody>\n",
       "</table>\n",
       "</div>"
      ],
      "text/plain": [
       "             credit_score        age  tenure    balance  products_number  \\\n",
       "customer_id                                                                \n",
       "15704651            514.0  26.000000     1.0       0.00              2.0   \n",
       "15736397            544.0  71.296396     1.0   96471.20              1.0   \n",
       "15596405            546.0  25.000000     7.0  127728.24              2.0   \n",
       "15623595            586.0  28.000000     2.0  100654.80              2.0   \n",
       "15605684            664.0  31.000000     7.0  104158.84              1.0   \n",
       "\n",
       "             estimated_salary country  gender credit_card active_member  \n",
       "customer_id                                                              \n",
       "15704651            121551.93  France    Male          no            no  \n",
       "15736397             35550.97  France    Male         yes            no  \n",
       "15596405            105279.74   Spain    Male         yes           yes  \n",
       "15623595             92067.35   Spain  Female         yes           yes  \n",
       "15605684            134169.85  France  Female         yes            no  "
      ]
     },
     "execution_count": 37,
     "metadata": {},
     "output_type": "execute_result"
    }
   ],
   "source": [
    "# fit the capper on test data\n",
    "X_test[numeric_columns] = capper.transform(X_test[numeric_columns])\n",
    "X_test.head()"
   ]
  },
  {
   "cell_type": "code",
   "execution_count": 38,
   "metadata": {},
   "outputs": [],
   "source": [
    "# Save capper \n",
    "with open('../artifacts/capper.pickle', 'wb') as filename:\n",
    "    pickle.dump(capper, filename)"
   ]
  },
  {
   "cell_type": "code",
   "execution_count": 39,
   "metadata": {},
   "outputs": [
    {
     "data": {
      "image/png": "[encoded data removed]",
      "text/plain": [
       "<Figure size 432x288 with 1 Axes>"
      ]
     },
     "metadata": {
      "needs_background": "light"
     },
     "output_type": "display_data"
    },
    {
     "data": {
      "image/png": "[encoded data removed]",
      "text/plain": [
       "<Figure size 432x288 with 1 Axes>"
      ]
     },
     "metadata": {
      "needs_background": "light"
     },
     "output_type": "display_data"
    },
    {
     "data": {
      "image/png": "[encoded data removed]",
      "text/plain": [
       "<Figure size 432x288 with 1 Axes>"
      ]
     },
     "metadata": {
      "needs_background": "light"
     },
     "output_type": "display_data"
    },
    {
     "data": {
      "image/png": "[encoded data removed]",
      "text/plain": [
       "<Figure size 432x288 with 1 Axes>"
      ]
     },
     "metadata": {
      "needs_background": "light"
     },
     "output_type": "display_data"
    },
    {
     "data": {
      "image/png": "[encoded data removed]",
      "text/plain": [
       "<Figure size 432x288 with 1 Axes>"
      ]
     },
     "metadata": {
      "needs_background": "light"
     },
     "output_type": "display_data"
    },
    {
     "data": {
      "image/png": "[encoded data removed]",
      "text/plain": [
       "<Figure size 432x288 with 1 Axes>"
      ]
     },
     "metadata": {
      "needs_background": "light"
     },
     "output_type": "display_data"
    }
   ],
   "source": [
    "# plot the distributions\n",
    "for col in numeric_columns:\n",
    "    plt.hist(X_train[col])\n",
    "    plt.title(col)\n",
    "    plt.show()"
   ]
  },
  {
   "attachments": {},
   "cell_type": "markdown",
   "metadata": {},
   "source": [
    "## One-Hote Encoding"
   ]
  },
  {
   "cell_type": "code",
   "execution_count": 40,
   "metadata": {},
   "outputs": [],
   "source": [
    "enc = OneHotEncoder(\n",
    "    handle_unknown='ignore',\n",
    "    sparse=False,\n",
    "    drop='first')"
   ]
  },
  {
   "cell_type": "code",
   "execution_count": 41,
   "metadata": {},
   "outputs": [
    {
     "data": {
      "text/html": [
       "<div>\n",
       "<style scoped>\n",
       "    .dataframe tbody tr th:only-of-type {\n",
       "        vertical-align: middle;\n",
       "    }\n",
       "\n",
       "    .dataframe tbody tr th {\n",
       "        vertical-align: top;\n",
       "    }\n",
       "\n",
       "    .dataframe thead th {\n",
       "        text-align: right;\n",
       "    }\n",
       "</style>\n",
       "<table border=\"1\" class=\"dataframe\">\n",
       "  <thead>\n",
       "    <tr style=\"text-align: right;\">\n",
       "      <th></th>\n",
       "      <th>credit_score</th>\n",
       "      <th>age</th>\n",
       "      <th>tenure</th>\n",
       "      <th>balance</th>\n",
       "      <th>products_number</th>\n",
       "      <th>estimated_salary</th>\n",
       "      <th>country_Germany</th>\n",
       "      <th>country_Spain</th>\n",
       "      <th>gender_Male</th>\n",
       "      <th>credit_card_yes</th>\n",
       "      <th>active_member_yes</th>\n",
       "    </tr>\n",
       "    <tr>\n",
       "      <th>customer_id</th>\n",
       "      <th></th>\n",
       "      <th></th>\n",
       "      <th></th>\n",
       "      <th></th>\n",
       "      <th></th>\n",
       "      <th></th>\n",
       "      <th></th>\n",
       "      <th></th>\n",
       "      <th></th>\n",
       "      <th></th>\n",
       "      <th></th>\n",
       "    </tr>\n",
       "  </thead>\n",
       "  <tbody>\n",
       "    <tr>\n",
       "      <th>15733705</th>\n",
       "      <td>577.0</td>\n",
       "      <td>30.000000</td>\n",
       "      <td>8.0</td>\n",
       "      <td>92472.10</td>\n",
       "      <td>2.0</td>\n",
       "      <td>126434.61</td>\n",
       "      <td>0.0</td>\n",
       "      <td>0.0</td>\n",
       "      <td>0.0</td>\n",
       "      <td>0.0</td>\n",
       "      <td>1.0</td>\n",
       "    </tr>\n",
       "    <tr>\n",
       "      <th>15580719</th>\n",
       "      <td>697.0</td>\n",
       "      <td>71.657071</td>\n",
       "      <td>10.0</td>\n",
       "      <td>0.00</td>\n",
       "      <td>2.0</td>\n",
       "      <td>79734.23</td>\n",
       "      <td>0.0</td>\n",
       "      <td>0.0</td>\n",
       "      <td>0.0</td>\n",
       "      <td>1.0</td>\n",
       "      <td>1.0</td>\n",
       "    </tr>\n",
       "    <tr>\n",
       "      <th>15613923</th>\n",
       "      <td>581.0</td>\n",
       "      <td>43.000000</td>\n",
       "      <td>4.0</td>\n",
       "      <td>170172.90</td>\n",
       "      <td>1.0</td>\n",
       "      <td>100236.02</td>\n",
       "      <td>0.0</td>\n",
       "      <td>1.0</td>\n",
       "      <td>0.0</td>\n",
       "      <td>0.0</td>\n",
       "      <td>1.0</td>\n",
       "    </tr>\n",
       "    <tr>\n",
       "      <th>15624703</th>\n",
       "      <td>550.0</td>\n",
       "      <td>35.000000</td>\n",
       "      <td>9.0</td>\n",
       "      <td>129847.75</td>\n",
       "      <td>2.0</td>\n",
       "      <td>106673.45</td>\n",
       "      <td>1.0</td>\n",
       "      <td>0.0</td>\n",
       "      <td>1.0</td>\n",
       "      <td>1.0</td>\n",
       "      <td>0.0</td>\n",
       "    </tr>\n",
       "    <tr>\n",
       "      <th>15743817</th>\n",
       "      <td>621.0</td>\n",
       "      <td>40.000000</td>\n",
       "      <td>8.0</td>\n",
       "      <td>174126.75</td>\n",
       "      <td>3.0</td>\n",
       "      <td>172490.78</td>\n",
       "      <td>1.0</td>\n",
       "      <td>0.0</td>\n",
       "      <td>1.0</td>\n",
       "      <td>1.0</td>\n",
       "      <td>0.0</td>\n",
       "    </tr>\n",
       "  </tbody>\n",
       "</table>\n",
       "</div>"
      ],
      "text/plain": [
       "             credit_score        age  tenure    balance  products_number  \\\n",
       "customer_id                                                                \n",
       "15733705            577.0  30.000000     8.0   92472.10              2.0   \n",
       "15580719            697.0  71.657071    10.0       0.00              2.0   \n",
       "15613923            581.0  43.000000     4.0  170172.90              1.0   \n",
       "15624703            550.0  35.000000     9.0  129847.75              2.0   \n",
       "15743817            621.0  40.000000     8.0  174126.75              3.0   \n",
       "\n",
       "             estimated_salary  country_Germany  country_Spain  gender_Male  \\\n",
       "customer_id                                                                  \n",
       "15733705            126434.61              0.0            0.0          0.0   \n",
       "15580719             79734.23              0.0            0.0          0.0   \n",
       "15613923            100236.02              0.0            1.0          0.0   \n",
       "15624703            106673.45              1.0            0.0          1.0   \n",
       "15743817            172490.78              1.0            0.0          1.0   \n",
       "\n",
       "             credit_card_yes  active_member_yes  \n",
       "customer_id                                      \n",
       "15733705                 0.0                1.0  \n",
       "15580719                 1.0                1.0  \n",
       "15613923                 0.0                1.0  \n",
       "15624703                 1.0                0.0  \n",
       "15743817                 1.0                0.0  "
      ]
     },
     "execution_count": 41,
     "metadata": {},
     "output_type": "execute_result"
    }
   ],
   "source": [
    "# hotencode train data\n",
    "X_train_hot_enc = enc.fit_transform(X_train[categorical_columns])\n",
    "X_train_cat_hotenc = pd.DataFrame(X_train_hot_enc, columns=enc.get_feature_names_out()) \n",
    "X_train_cat_hotenc.index = X_train.index \n",
    "X_train_hotenc = pd.concat([X_train[numeric_columns], X_train_cat_hotenc], axis=1) \n",
    "X_train_hotenc.head()"
   ]
  },
  {
   "cell_type": "code",
   "execution_count": 42,
   "metadata": {},
   "outputs": [
    {
     "data": {
      "text/html": [
       "<div>\n",
       "<style scoped>\n",
       "    .dataframe tbody tr th:only-of-type {\n",
       "        vertical-align: middle;\n",
       "    }\n",
       "\n",
       "    .dataframe tbody tr th {\n",
       "        vertical-align: top;\n",
       "    }\n",
       "\n",
       "    .dataframe thead th {\n",
       "        text-align: right;\n",
       "    }\n",
       "</style>\n",
       "<table border=\"1\" class=\"dataframe\">\n",
       "  <thead>\n",
       "    <tr style=\"text-align: right;\">\n",
       "      <th></th>\n",
       "      <th>credit_score</th>\n",
       "      <th>age</th>\n",
       "      <th>tenure</th>\n",
       "      <th>balance</th>\n",
       "      <th>products_number</th>\n",
       "      <th>estimated_salary</th>\n",
       "      <th>country_Germany</th>\n",
       "      <th>country_Spain</th>\n",
       "      <th>gender_Male</th>\n",
       "      <th>credit_card_yes</th>\n",
       "      <th>active_member_yes</th>\n",
       "    </tr>\n",
       "    <tr>\n",
       "      <th>customer_id</th>\n",
       "      <th></th>\n",
       "      <th></th>\n",
       "      <th></th>\n",
       "      <th></th>\n",
       "      <th></th>\n",
       "      <th></th>\n",
       "      <th></th>\n",
       "      <th></th>\n",
       "      <th></th>\n",
       "      <th></th>\n",
       "      <th></th>\n",
       "    </tr>\n",
       "  </thead>\n",
       "  <tbody>\n",
       "    <tr>\n",
       "      <th>15704651</th>\n",
       "      <td>514.0</td>\n",
       "      <td>26.000000</td>\n",
       "      <td>1.0</td>\n",
       "      <td>0.00</td>\n",
       "      <td>2.0</td>\n",
       "      <td>121551.93</td>\n",
       "      <td>0.0</td>\n",
       "      <td>0.0</td>\n",
       "      <td>1.0</td>\n",
       "      <td>0.0</td>\n",
       "      <td>0.0</td>\n",
       "    </tr>\n",
       "    <tr>\n",
       "      <th>15736397</th>\n",
       "      <td>544.0</td>\n",
       "      <td>71.296396</td>\n",
       "      <td>1.0</td>\n",
       "      <td>96471.20</td>\n",
       "      <td>1.0</td>\n",
       "      <td>35550.97</td>\n",
       "      <td>0.0</td>\n",
       "      <td>0.0</td>\n",
       "      <td>1.0</td>\n",
       "      <td>1.0</td>\n",
       "      <td>0.0</td>\n",
       "    </tr>\n",
       "    <tr>\n",
       "      <th>15596405</th>\n",
       "      <td>546.0</td>\n",
       "      <td>25.000000</td>\n",
       "      <td>7.0</td>\n",
       "      <td>127728.24</td>\n",
       "      <td>2.0</td>\n",
       "      <td>105279.74</td>\n",
       "      <td>0.0</td>\n",
       "      <td>1.0</td>\n",
       "      <td>1.0</td>\n",
       "      <td>1.0</td>\n",
       "      <td>1.0</td>\n",
       "    </tr>\n",
       "    <tr>\n",
       "      <th>15623595</th>\n",
       "      <td>586.0</td>\n",
       "      <td>28.000000</td>\n",
       "      <td>2.0</td>\n",
       "      <td>100654.80</td>\n",
       "      <td>2.0</td>\n",
       "      <td>92067.35</td>\n",
       "      <td>0.0</td>\n",
       "      <td>1.0</td>\n",
       "      <td>0.0</td>\n",
       "      <td>1.0</td>\n",
       "      <td>1.0</td>\n",
       "    </tr>\n",
       "    <tr>\n",
       "      <th>15605684</th>\n",
       "      <td>664.0</td>\n",
       "      <td>31.000000</td>\n",
       "      <td>7.0</td>\n",
       "      <td>104158.84</td>\n",
       "      <td>1.0</td>\n",
       "      <td>134169.85</td>\n",
       "      <td>0.0</td>\n",
       "      <td>0.0</td>\n",
       "      <td>0.0</td>\n",
       "      <td>1.0</td>\n",
       "      <td>0.0</td>\n",
       "    </tr>\n",
       "  </tbody>\n",
       "</table>\n",
       "</div>"
      ],
      "text/plain": [
       "             credit_score        age  tenure    balance  products_number  \\\n",
       "customer_id                                                                \n",
       "15704651            514.0  26.000000     1.0       0.00              2.0   \n",
       "15736397            544.0  71.296396     1.0   96471.20              1.0   \n",
       "15596405            546.0  25.000000     7.0  127728.24              2.0   \n",
       "15623595            586.0  28.000000     2.0  100654.80              2.0   \n",
       "15605684            664.0  31.000000     7.0  104158.84              1.0   \n",
       "\n",
       "             estimated_salary  country_Germany  country_Spain  gender_Male  \\\n",
       "customer_id                                                                  \n",
       "15704651            121551.93              0.0            0.0          1.0   \n",
       "15736397             35550.97              0.0            0.0          1.0   \n",
       "15596405            105279.74              0.0            1.0          1.0   \n",
       "15623595             92067.35              0.0            1.0          0.0   \n",
       "15605684            134169.85              0.0            0.0          0.0   \n",
       "\n",
       "             credit_card_yes  active_member_yes  \n",
       "customer_id                                      \n",
       "15704651                 0.0                0.0  \n",
       "15736397                 1.0                0.0  \n",
       "15596405                 1.0                1.0  \n",
       "15623595                 1.0                1.0  \n",
       "15605684                 1.0                0.0  "
      ]
     },
     "execution_count": 42,
     "metadata": {},
     "output_type": "execute_result"
    }
   ],
   "source": [
    "# hotencode test data\n",
    "X_test_hot_enc = enc.transform(X_test[categorical_columns])\n",
    "X_test_cat_hotenc = pd.DataFrame(X_test_hot_enc, columns=enc.get_feature_names_out()) \n",
    "X_test_cat_hotenc.index = X_test.index \n",
    "X_test_hotenc = pd.concat([X_test[numeric_columns], X_test_cat_hotenc], axis=1) \n",
    "X_test_hotenc.head()"
   ]
  },
  {
   "cell_type": "code",
   "execution_count": 43,
   "metadata": {},
   "outputs": [],
   "source": [
    "# Save one hot encoder\n",
    "with open('../artifacts/enc.pickle', 'wb') as filename:\n",
    "    pickle.dump(enc, filename)"
   ]
  },
  {
   "attachments": {},
   "cell_type": "markdown",
   "metadata": {},
   "source": [
    "# Training Sklearn Random Forest"
   ]
  },
  {
   "cell_type": "code",
   "execution_count": 44,
   "metadata": {},
   "outputs": [],
   "source": [
    "rf = RandomForestClassifier(\n",
    "    n_estimators=100, \n",
    "    max_depth=None,\n",
    "    min_samples_split=3,\n",
    "    min_samples_leaf=3,\n",
    "    max_features='log2', \n",
    "    random_state=123)"
   ]
  },
  {
   "cell_type": "code",
   "execution_count": 45,
   "metadata": {},
   "outputs": [
    {
     "data": {
      "text/html": [
       "<style>#sk-container-id-1 {color: black;background-color: white;}#sk-container-id-1 pre{padding: 0;}#sk-container-id-1 div.sk-toggleable {background-color: white;}#sk-container-id-1 label.sk-toggleable__label {cursor: pointer;display: block;width: 100%;margin-bottom: 0;padding: 0.3em;box-sizing: border-box;text-align: center;}#sk-container-id-1 label.sk-toggleable__label-arrow:before {content: \"▸\";float: left;margin-right: 0.25em;color: #696969;}#sk-container-id-1 label.sk-toggleable__label-arrow:hover:before {color: black;}#sk-container-id-1 div.sk-estimator:hover label.sk-toggleable__label-arrow:before {color: black;}#sk-container-id-1 div.sk-toggleable__content {max-height: 0;max-width: 0;overflow: hidden;text-align: left;background-color: #f0f8ff;}#sk-container-id-1 div.sk-toggleable__content pre {margin: 0.2em;color: black;border-radius: 0.25em;background-color: #f0f8ff;}#sk-container-id-1 input.sk-toggleable__control:checked~div.sk-toggleable__content {max-height: 200px;max-width: 100%;overflow: auto;}#sk-container-id-1 input.sk-toggleable__control:checked~label.sk-toggleable__label-arrow:before {content: \"▾\";}#sk-container-id-1 div.sk-estimator input.sk-toggleable__control:checked~label.sk-toggleable__label {background-color: #d4ebff;}#sk-container-id-1 div.sk-label input.sk-toggleable__control:checked~label.sk-toggleable__label {background-color: #d4ebff;}#sk-container-id-1 input.sk-hidden--visually {border: 0;clip: rect(1px 1px 1px 1px);clip: rect(1px, 1px, 1px, 1px);height: 1px;margin: -1px;overflow: hidden;padding: 0;position: absolute;width: 1px;}#sk-container-id-1 div.sk-estimator {font-family: monospace;background-color: #f0f8ff;border: 1px dotted black;border-radius: 0.25em;box-sizing: border-box;margin-bottom: 0.5em;}#sk-container-id-1 div.sk-estimator:hover {background-color: #d4ebff;}#sk-container-id-1 div.sk-parallel-item::after {content: \"\";width: 100%;border-bottom: 1px solid gray;flex-grow: 1;}#sk-container-id-1 div.sk-label:hover label.sk-toggleable__label {background-color: #d4ebff;}#sk-container-id-1 div.sk-serial::before {content: \"\";position: absolute;border-left: 1px solid gray;box-sizing: border-box;top: 0;bottom: 0;left: 50%;z-index: 0;}#sk-container-id-1 div.sk-serial {display: flex;flex-direction: column;align-items: center;background-color: white;padding-right: 0.2em;padding-left: 0.2em;position: relative;}#sk-container-id-1 div.sk-item {position: relative;z-index: 1;}#sk-container-id-1 div.sk-parallel {display: flex;align-items: stretch;justify-content: center;background-color: white;position: relative;}#sk-container-id-1 div.sk-item::before, #sk-container-id-1 div.sk-parallel-item::before {content: \"\";position: absolute;border-left: 1px solid gray;box-sizing: border-box;top: 0;bottom: 0;left: 50%;z-index: -1;}#sk-container-id-1 div.sk-parallel-item {display: flex;flex-direction: column;z-index: 1;position: relative;background-color: white;}#sk-container-id-1 div.sk-parallel-item:first-child::after {align-self: flex-end;width: 50%;}#sk-container-id-1 div.sk-parallel-item:last-child::after {align-self: flex-start;width: 50%;}#sk-container-id-1 div.sk-parallel-item:only-child::after {width: 0;}#sk-container-id-1 div.sk-dashed-wrapped {border: 1px dashed gray;margin: 0 0.4em 0.5em 0.4em;box-sizing: border-box;padding-bottom: 0.4em;background-color: white;}#sk-container-id-1 div.sk-label label {font-family: monospace;font-weight: bold;display: inline-block;line-height: 1.2em;}#sk-container-id-1 div.sk-label-container {text-align: center;}#sk-container-id-1 div.sk-container {/* jupyter's `normalize.less` sets `[hidden] { display: none; }` but bootstrap.min.css set `[hidden] { display: none !important; }` so we also need the `!important` here to be able to override the default hidden behavior on the sphinx rendered scikit-learn.org. See: https://github.com/scikit-learn/scikit-learn/issues/21755 */display: inline-block !important;position: relative;}#sk-container-id-1 div.sk-text-repr-fallback {display: none;}</style><div id=\"sk-container-id-1\" class=\"sk-top-container\"><div class=\"sk-text-repr-fallback\"><pre>RandomForestClassifier(max_features=&#x27;log2&#x27;, min_samples_leaf=3,\n",
       "                       min_samples_split=3, random_state=123)</pre><b>In a Jupyter environment, please rerun this cell to show the HTML representation or trust the notebook. <br />On GitHub, the HTML representation is unable to render, please try loading this page with nbviewer.org.</b></div><div class=\"sk-container\" hidden><div class=\"sk-item\"><div class=\"sk-estimator sk-toggleable\"><input class=\"sk-toggleable__control sk-hidden--visually\" id=\"sk-estimator-id-1\" type=\"checkbox\" checked><label for=\"sk-estimator-id-1\" class=\"sk-toggleable__label sk-toggleable__label-arrow\">RandomForestClassifier</label><div class=\"sk-toggleable__content\"><pre>RandomForestClassifier(max_features=&#x27;log2&#x27;, min_samples_leaf=3,\n",
       "                       min_samples_split=3, random_state=123)</pre></div></div></div></div></div>"
      ],
      "text/plain": [
       "RandomForestClassifier(max_features='log2', min_samples_leaf=3,\n",
       "                       min_samples_split=3, random_state=123)"
      ]
     },
     "execution_count": 45,
     "metadata": {},
     "output_type": "execute_result"
    }
   ],
   "source": [
    "rf.fit(X_train_hotenc, y_train)"
   ]
  },
  {
   "cell_type": "code",
   "execution_count": 46,
   "metadata": {},
   "outputs": [
    {
     "data": {
      "text/plain": [
       "0.9268"
      ]
     },
     "execution_count": 46,
     "metadata": {},
     "output_type": "execute_result"
    }
   ],
   "source": [
    "# evaluate accuracy on training set\n",
    "rf.score(X_train_hotenc, y_train)"
   ]
  },
  {
   "cell_type": "code",
   "execution_count": 47,
   "metadata": {},
   "outputs": [
    {
     "data": {
      "text/plain": [
       "0.8404"
      ]
     },
     "execution_count": 47,
     "metadata": {},
     "output_type": "execute_result"
    }
   ],
   "source": [
    "# evaluate accuracy on test set\n",
    "rf.score(X_test_hotenc, y_test)"
   ]
  },
  {
   "attachments": {},
   "cell_type": "markdown",
   "metadata": {},
   "source": [
    "### Tuning Random Forest"
   ]
  },
  {
   "cell_type": "code",
   "execution_count": 48,
   "metadata": {},
   "outputs": [],
   "source": [
    "# parameters for Random Forest\n",
    "parameters = {\n",
    "    'n_estimators': (50, 100, 200, 400),\n",
    "    'max_depth': (3, 5, None),\n",
    "    'min_samples_split': (1, 3, 6),\n",
    "    'min_samples_leaf': (1, 3, 6),\n",
    "    }\n",
    "\n",
    "model = GridSearchCV(\n",
    "    rf, \n",
    "    parameters,\n",
    "    scoring=make_scorer(recall_score),\n",
    "    cv=3, \n",
    "    n_jobs =-1)"
   ]
  },
  {
   "cell_type": "code",
   "execution_count": 49,
   "metadata": {},
   "outputs": [
    {
     "name": "stderr",
     "output_type": "stream",
     "text": [
      "\n",
      "108 fits failed out of a total of 324.\n",
      "The score on these train-test partitions for these parameters will be set to nan.\n",
      "If these failures are not expected, you can try to debug them by setting error_score='raise'.\n",
      "\n",
      "Below are more details about the failures:\n",
      "--------------------------------------------------------------------------------\n",
      "108 fits failed with the following error:\n",
      "Traceback (most recent call last):\n",
      "  File \"c:\\Users\\Nutzer\\.conda\\envs\\customer_analytics\\lib\\site-packages\\sklearn\\model_selection\\_validation.py\", line 686, in _fit_and_score\n",
      "    estimator.fit(X_train, y_train, **fit_params)\n",
      "  File \"c:\\Users\\Nutzer\\.conda\\envs\\customer_analytics\\lib\\site-packages\\sklearn\\ensemble\\_forest.py\", line 476, in fit\n",
      "    trees = Parallel(\n",
      "  File \"c:\\Users\\Nutzer\\.conda\\envs\\customer_analytics\\lib\\site-packages\\joblib\\parallel.py\", line 1041, in __call__\n",
      "    if self.dispatch_one_batch(iterator):\n",
      "  File \"c:\\Users\\Nutzer\\.conda\\envs\\customer_analytics\\lib\\site-packages\\joblib\\parallel.py\", line 859, in dispatch_one_batch\n",
      "    self._dispatch(tasks)\n",
      "  File \"c:\\Users\\Nutzer\\.conda\\envs\\customer_analytics\\lib\\site-packages\\joblib\\parallel.py\", line 777, in _dispatch\n",
      "    job = self._backend.apply_async(batch, callback=cb)\n",
      "  File \"c:\\Users\\Nutzer\\.conda\\envs\\customer_analytics\\lib\\site-packages\\joblib\\_parallel_backends.py\", line 208, in apply_async\n",
      "    result = ImmediateResult(func)\n",
      "  File \"c:\\Users\\Nutzer\\.conda\\envs\\customer_analytics\\lib\\site-packages\\joblib\\_parallel_backends.py\", line 572, in __init__\n",
      "    self.results = batch()\n",
      "  File \"c:\\Users\\Nutzer\\.conda\\envs\\customer_analytics\\lib\\site-packages\\joblib\\parallel.py\", line 262, in __call__\n",
      "    return [func(*args, **kwargs)\n",
      "  File \"c:\\Users\\Nutzer\\.conda\\envs\\customer_analytics\\lib\\site-packages\\joblib\\parallel.py\", line 262, in <listcomp>\n",
      "    return [func(*args, **kwargs)\n",
      "  File \"c:\\Users\\Nutzer\\.conda\\envs\\customer_analytics\\lib\\site-packages\\sklearn\\utils\\fixes.py\", line 117, in __call__\n",
      "    return self.function(*args, **kwargs)\n",
      "  File \"c:\\Users\\Nutzer\\.conda\\envs\\customer_analytics\\lib\\site-packages\\sklearn\\ensemble\\_forest.py\", line 189, in _parallel_build_trees\n",
      "    tree.fit(X, y, sample_weight=curr_sample_weight, check_input=False)\n",
      "  File \"c:\\Users\\Nutzer\\.conda\\envs\\customer_analytics\\lib\\site-packages\\sklearn\\tree\\_classes.py\", line 969, in fit\n",
      "    super().fit(\n",
      "  File \"c:\\Users\\Nutzer\\.conda\\envs\\customer_analytics\\lib\\site-packages\\sklearn\\tree\\_classes.py\", line 265, in fit\n",
      "    check_scalar(\n",
      "  File \"c:\\Users\\Nutzer\\.conda\\envs\\customer_analytics\\lib\\site-packages\\sklearn\\utils\\validation.py\", line 1480, in check_scalar\n",
      "    raise ValueError(\n",
      "ValueError: min_samples_split == 1, must be >= 2.\n",
      "\n",
      "One or more of the test scores are non-finite: [       nan        nan        nan        nan 0.04809995 0.02062005\n",
      " 0.03043843 0.03239632 0.04023367 0.01767019 0.03043843 0.03239632\n",
      "        nan        nan        nan        nan 0.04023367 0.01865059\n",
      " 0.03043843 0.03436    0.04023367 0.01865059 0.03043843 0.03436\n",
      "        nan        nan        nan        nan 0.0441726  0.02258372\n",
      " 0.02847475 0.02945225 0.0441726  0.02258372 0.02847475 0.02945225\n",
      "        nan        nan        nan        nan 0.20513332 0.18844641\n",
      " 0.20412979 0.21001793 0.20513043 0.18450749 0.20216612 0.21492278\n",
      "        nan        nan        nan        nan 0.20216901 0.19038117\n",
      " 0.20314651 0.214917   0.20216901 0.19038117 0.20314651 0.214917\n",
      "        nan        nan        nan        nan 0.19333102 0.18351553\n",
      " 0.19234774 0.21099254 0.19333102 0.18351553 0.19234774 0.21099254\n",
      "        nan        nan        nan        nan 0.36211175 0.36112268\n",
      " 0.36702238 0.3670166  0.35718087 0.36012493 0.36307768 0.36995488\n",
      "        nan        nan        nan        nan 0.35720689 0.3483718\n",
      " 0.35426283 0.35426283 0.35720689 0.3483718  0.35426283 0.35426283\n",
      "        nan        nan        nan        nan 0.33073052 0.32484239\n",
      " 0.32090636 0.32385332 0.33073052 0.32484239 0.32090636 0.32385332]\n"
     ]
    },
    {
     "data": {
      "text/html": [
       "<style>#sk-container-id-2 {color: black;background-color: white;}#sk-container-id-2 pre{padding: 0;}#sk-container-id-2 div.sk-toggleable {background-color: white;}#sk-container-id-2 label.sk-toggleable__label {cursor: pointer;display: block;width: 100%;margin-bottom: 0;padding: 0.3em;box-sizing: border-box;text-align: center;}#sk-container-id-2 label.sk-toggleable__label-arrow:before {content: \"▸\";float: left;margin-right: 0.25em;color: #696969;}#sk-container-id-2 label.sk-toggleable__label-arrow:hover:before {color: black;}#sk-container-id-2 div.sk-estimator:hover label.sk-toggleable__label-arrow:before {color: black;}#sk-container-id-2 div.sk-toggleable__content {max-height: 0;max-width: 0;overflow: hidden;text-align: left;background-color: #f0f8ff;}#sk-container-id-2 div.sk-toggleable__content pre {margin: 0.2em;color: black;border-radius: 0.25em;background-color: #f0f8ff;}#sk-container-id-2 input.sk-toggleable__control:checked~div.sk-toggleable__content {max-height: 200px;max-width: 100%;overflow: auto;}#sk-container-id-2 input.sk-toggleable__control:checked~label.sk-toggleable__label-arrow:before {content: \"▾\";}#sk-container-id-2 div.sk-estimator input.sk-toggleable__control:checked~label.sk-toggleable__label {background-color: #d4ebff;}#sk-container-id-2 div.sk-label input.sk-toggleable__control:checked~label.sk-toggleable__label {background-color: #d4ebff;}#sk-container-id-2 input.sk-hidden--visually {border: 0;clip: rect(1px 1px 1px 1px);clip: rect(1px, 1px, 1px, 1px);height: 1px;margin: -1px;overflow: hidden;padding: 0;position: absolute;width: 1px;}#sk-container-id-2 div.sk-estimator {font-family: monospace;background-color: #f0f8ff;border: 1px dotted black;border-radius: 0.25em;box-sizing: border-box;margin-bottom: 0.5em;}#sk-container-id-2 div.sk-estimator:hover {background-color: #d4ebff;}#sk-container-id-2 div.sk-parallel-item::after {content: \"\";width: 100%;border-bottom: 1px solid gray;flex-grow: 1;}#sk-container-id-2 div.sk-label:hover label.sk-toggleable__label {background-color: #d4ebff;}#sk-container-id-2 div.sk-serial::before {content: \"\";position: absolute;border-left: 1px solid gray;box-sizing: border-box;top: 0;bottom: 0;left: 50%;z-index: 0;}#sk-container-id-2 div.sk-serial {display: flex;flex-direction: column;align-items: center;background-color: white;padding-right: 0.2em;padding-left: 0.2em;position: relative;}#sk-container-id-2 div.sk-item {position: relative;z-index: 1;}#sk-container-id-2 div.sk-parallel {display: flex;align-items: stretch;justify-content: center;background-color: white;position: relative;}#sk-container-id-2 div.sk-item::before, #sk-container-id-2 div.sk-parallel-item::before {content: \"\";position: absolute;border-left: 1px solid gray;box-sizing: border-box;top: 0;bottom: 0;left: 50%;z-index: -1;}#sk-container-id-2 div.sk-parallel-item {display: flex;flex-direction: column;z-index: 1;position: relative;background-color: white;}#sk-container-id-2 div.sk-parallel-item:first-child::after {align-self: flex-end;width: 50%;}#sk-container-id-2 div.sk-parallel-item:last-child::after {align-self: flex-start;width: 50%;}#sk-container-id-2 div.sk-parallel-item:only-child::after {width: 0;}#sk-container-id-2 div.sk-dashed-wrapped {border: 1px dashed gray;margin: 0 0.4em 0.5em 0.4em;box-sizing: border-box;padding-bottom: 0.4em;background-color: white;}#sk-container-id-2 div.sk-label label {font-family: monospace;font-weight: bold;display: inline-block;line-height: 1.2em;}#sk-container-id-2 div.sk-label-container {text-align: center;}#sk-container-id-2 div.sk-container {/* jupyter's `normalize.less` sets `[hidden] { display: none; }` but bootstrap.min.css set `[hidden] { display: none !important; }` so we also need the `!important` here to be able to override the default hidden behavior on the sphinx rendered scikit-learn.org. See: https://github.com/scikit-learn/scikit-learn/issues/21755 */display: inline-block !important;position: relative;}#sk-container-id-2 div.sk-text-repr-fallback {display: none;}</style><div id=\"sk-container-id-2\" class=\"sk-top-container\"><div class=\"sk-text-repr-fallback\"><pre>GridSearchCV(cv=3,\n",
       "             estimator=RandomForestClassifier(max_features=&#x27;log2&#x27;,\n",
       "                                              min_samples_leaf=3,\n",
       "                                              min_samples_split=3,\n",
       "                                              random_state=123),\n",
       "             n_jobs=-1,\n",
       "             param_grid={&#x27;max_depth&#x27;: (3, 5, None),\n",
       "                         &#x27;min_samples_leaf&#x27;: (1, 3, 6),\n",
       "                         &#x27;min_samples_split&#x27;: (1, 3, 6),\n",
       "                         &#x27;n_estimators&#x27;: (50, 100, 200, 400)},\n",
       "             scoring=make_scorer(recall_score))</pre><b>In a Jupyter environment, please rerun this cell to show the HTML representation or trust the notebook. <br />On GitHub, the HTML representation is unable to render, please try loading this page with nbviewer.org.</b></div><div class=\"sk-container\" hidden><div class=\"sk-item sk-dashed-wrapped\"><div class=\"sk-label-container\"><div class=\"sk-label sk-toggleable\"><input class=\"sk-toggleable__control sk-hidden--visually\" id=\"sk-estimator-id-2\" type=\"checkbox\" ><label for=\"sk-estimator-id-2\" class=\"sk-toggleable__label sk-toggleable__label-arrow\">GridSearchCV</label><div class=\"sk-toggleable__content\"><pre>GridSearchCV(cv=3,\n",
       "             estimator=RandomForestClassifier(max_features=&#x27;log2&#x27;,\n",
       "                                              min_samples_leaf=3,\n",
       "                                              min_samples_split=3,\n",
       "                                              random_state=123),\n",
       "             n_jobs=-1,\n",
       "             param_grid={&#x27;max_depth&#x27;: (3, 5, None),\n",
       "                         &#x27;min_samples_leaf&#x27;: (1, 3, 6),\n",
       "                         &#x27;min_samples_split&#x27;: (1, 3, 6),\n",
       "                         &#x27;n_estimators&#x27;: (50, 100, 200, 400)},\n",
       "             scoring=make_scorer(recall_score))</pre></div></div></div><div class=\"sk-parallel\"><div class=\"sk-parallel-item\"><div class=\"sk-item\"><div class=\"sk-label-container\"><div class=\"sk-label sk-toggleable\"><input class=\"sk-toggleable__control sk-hidden--visually\" id=\"sk-estimator-id-3\" type=\"checkbox\" ><label for=\"sk-estimator-id-3\" class=\"sk-toggleable__label sk-toggleable__label-arrow\">estimator: RandomForestClassifier</label><div class=\"sk-toggleable__content\"><pre>RandomForestClassifier(max_features=&#x27;log2&#x27;, min_samples_leaf=3,\n",
       "                       min_samples_split=3, random_state=123)</pre></div></div></div><div class=\"sk-serial\"><div class=\"sk-item\"><div class=\"sk-estimator sk-toggleable\"><input class=\"sk-toggleable__control sk-hidden--visually\" id=\"sk-estimator-id-4\" type=\"checkbox\" ><label for=\"sk-estimator-id-4\" class=\"sk-toggleable__label sk-toggleable__label-arrow\">RandomForestClassifier</label><div class=\"sk-toggleable__content\"><pre>RandomForestClassifier(max_features=&#x27;log2&#x27;, min_samples_leaf=3,\n",
       "                       min_samples_split=3, random_state=123)</pre></div></div></div></div></div></div></div></div></div></div>"
      ],
      "text/plain": [
       "GridSearchCV(cv=3,\n",
       "             estimator=RandomForestClassifier(max_features='log2',\n",
       "                                              min_samples_leaf=3,\n",
       "                                              min_samples_split=3,\n",
       "                                              random_state=123),\n",
       "             n_jobs=-1,\n",
       "             param_grid={'max_depth': (3, 5, None),\n",
       "                         'min_samples_leaf': (1, 3, 6),\n",
       "                         'min_samples_split': (1, 3, 6),\n",
       "                         'n_estimators': (50, 100, 200, 400)},\n",
       "             scoring=make_scorer(recall_score))"
      ]
     },
     "execution_count": 49,
     "metadata": {},
     "output_type": "execute_result"
    }
   ],
   "source": [
    "model.fit(X_train_hotenc, y_train)"
   ]
  },
  {
   "cell_type": "code",
   "execution_count": 50,
   "metadata": {},
   "outputs": [
    {
     "data": {
      "text/plain": [
       "0.8263002944062807"
      ]
     },
     "execution_count": 50,
     "metadata": {},
     "output_type": "execute_result"
    }
   ],
   "source": [
    "# evaluate accuracy on training set\n",
    "model.score(X_train_hotenc, y_train)"
   ]
  },
  {
   "cell_type": "code",
   "execution_count": 51,
   "metadata": {},
   "outputs": [
    {
     "data": {
      "text/plain": [
       "0.3644400785854617"
      ]
     },
     "execution_count": 51,
     "metadata": {},
     "output_type": "execute_result"
    }
   ],
   "source": [
    "# evaluate accuracy on test set\n",
    "model.score(X_test_hotenc, y_test)"
   ]
  },
  {
   "attachments": {},
   "cell_type": "markdown",
   "metadata": {},
   "source": [
    "# Training Sklearn Gradient Boosting"
   ]
  },
  {
   "cell_type": "code",
   "execution_count": 52,
   "metadata": {},
   "outputs": [],
   "source": [
    "gb = GradientBoostingClassifier(\n",
    "    n_estimators=100, \n",
    "    max_depth=None,\n",
    "    max_features='log2', \n",
    "    random_state=123)"
   ]
  },
  {
   "cell_type": "code",
   "execution_count": 53,
   "metadata": {},
   "outputs": [
    {
     "data": {
      "text/html": [
       "<style>#sk-container-id-3 {color: black;background-color: white;}#sk-container-id-3 pre{padding: 0;}#sk-container-id-3 div.sk-toggleable {background-color: white;}#sk-container-id-3 label.sk-toggleable__label {cursor: pointer;display: block;width: 100%;margin-bottom: 0;padding: 0.3em;box-sizing: border-box;text-align: center;}#sk-container-id-3 label.sk-toggleable__label-arrow:before {content: \"▸\";float: left;margin-right: 0.25em;color: #696969;}#sk-container-id-3 label.sk-toggleable__label-arrow:hover:before {color: black;}#sk-container-id-3 div.sk-estimator:hover label.sk-toggleable__label-arrow:before {color: black;}#sk-container-id-3 div.sk-toggleable__content {max-height: 0;max-width: 0;overflow: hidden;text-align: left;background-color: #f0f8ff;}#sk-container-id-3 div.sk-toggleable__content pre {margin: 0.2em;color: black;border-radius: 0.25em;background-color: #f0f8ff;}#sk-container-id-3 input.sk-toggleable__control:checked~div.sk-toggleable__content {max-height: 200px;max-width: 100%;overflow: auto;}#sk-container-id-3 input.sk-toggleable__control:checked~label.sk-toggleable__label-arrow:before {content: \"▾\";}#sk-container-id-3 div.sk-estimator input.sk-toggleable__control:checked~label.sk-toggleable__label {background-color: #d4ebff;}#sk-container-id-3 div.sk-label input.sk-toggleable__control:checked~label.sk-toggleable__label {background-color: #d4ebff;}#sk-container-id-3 input.sk-hidden--visually {border: 0;clip: rect(1px 1px 1px 1px);clip: rect(1px, 1px, 1px, 1px);height: 1px;margin: -1px;overflow: hidden;padding: 0;position: absolute;width: 1px;}#sk-container-id-3 div.sk-estimator {font-family: monospace;background-color: #f0f8ff;border: 1px dotted black;border-radius: 0.25em;box-sizing: border-box;margin-bottom: 0.5em;}#sk-container-id-3 div.sk-estimator:hover {background-color: #d4ebff;}#sk-container-id-3 div.sk-parallel-item::after {content: \"\";width: 100%;border-bottom: 1px solid gray;flex-grow: 1;}#sk-container-id-3 div.sk-label:hover label.sk-toggleable__label {background-color: #d4ebff;}#sk-container-id-3 div.sk-serial::before {content: \"\";position: absolute;border-left: 1px solid gray;box-sizing: border-box;top: 0;bottom: 0;left: 50%;z-index: 0;}#sk-container-id-3 div.sk-serial {display: flex;flex-direction: column;align-items: center;background-color: white;padding-right: 0.2em;padding-left: 0.2em;position: relative;}#sk-container-id-3 div.sk-item {position: relative;z-index: 1;}#sk-container-id-3 div.sk-parallel {display: flex;align-items: stretch;justify-content: center;background-color: white;position: relative;}#sk-container-id-3 div.sk-item::before, #sk-container-id-3 div.sk-parallel-item::before {content: \"\";position: absolute;border-left: 1px solid gray;box-sizing: border-box;top: 0;bottom: 0;left: 50%;z-index: -1;}#sk-container-id-3 div.sk-parallel-item {display: flex;flex-direction: column;z-index: 1;position: relative;background-color: white;}#sk-container-id-3 div.sk-parallel-item:first-child::after {align-self: flex-end;width: 50%;}#sk-container-id-3 div.sk-parallel-item:last-child::after {align-self: flex-start;width: 50%;}#sk-container-id-3 div.sk-parallel-item:only-child::after {width: 0;}#sk-container-id-3 div.sk-dashed-wrapped {border: 1px dashed gray;margin: 0 0.4em 0.5em 0.4em;box-sizing: border-box;padding-bottom: 0.4em;background-color: white;}#sk-container-id-3 div.sk-label label {font-family: monospace;font-weight: bold;display: inline-block;line-height: 1.2em;}#sk-container-id-3 div.sk-label-container {text-align: center;}#sk-container-id-3 div.sk-container {/* jupyter's `normalize.less` sets `[hidden] { display: none; }` but bootstrap.min.css set `[hidden] { display: none !important; }` so we also need the `!important` here to be able to override the default hidden behavior on the sphinx rendered scikit-learn.org. See: https://github.com/scikit-learn/scikit-learn/issues/21755 */display: inline-block !important;position: relative;}#sk-container-id-3 div.sk-text-repr-fallback {display: none;}</style><div id=\"sk-container-id-3\" class=\"sk-top-container\"><div class=\"sk-text-repr-fallback\"><pre>GradientBoostingClassifier(max_depth=None, max_features=&#x27;log2&#x27;,\n",
       "                           random_state=123)</pre><b>In a Jupyter environment, please rerun this cell to show the HTML representation or trust the notebook. <br />On GitHub, the HTML representation is unable to render, please try loading this page with nbviewer.org.</b></div><div class=\"sk-container\" hidden><div class=\"sk-item\"><div class=\"sk-estimator sk-toggleable\"><input class=\"sk-toggleable__control sk-hidden--visually\" id=\"sk-estimator-id-5\" type=\"checkbox\" checked><label for=\"sk-estimator-id-5\" class=\"sk-toggleable__label sk-toggleable__label-arrow\">GradientBoostingClassifier</label><div class=\"sk-toggleable__content\"><pre>GradientBoostingClassifier(max_depth=None, max_features=&#x27;log2&#x27;,\n",
       "                           random_state=123)</pre></div></div></div></div></div>"
      ],
      "text/plain": [
       "GradientBoostingClassifier(max_depth=None, max_features='log2',\n",
       "                           random_state=123)"
      ]
     },
     "execution_count": 53,
     "metadata": {},
     "output_type": "execute_result"
    }
   ],
   "source": [
    "gb.fit(X_train_hotenc, y_train)"
   ]
  },
  {
   "cell_type": "code",
   "execution_count": 54,
   "metadata": {},
   "outputs": [
    {
     "data": {
      "text/plain": [
       "1.0"
      ]
     },
     "execution_count": 54,
     "metadata": {},
     "output_type": "execute_result"
    }
   ],
   "source": [
    "# evaluate accuracy on training set\n",
    "gb.score(X_train_hotenc, y_train)"
   ]
  },
  {
   "cell_type": "code",
   "execution_count": 55,
   "metadata": {},
   "outputs": [
    {
     "data": {
      "text/plain": [
       "0.8394"
      ]
     },
     "execution_count": 55,
     "metadata": {},
     "output_type": "execute_result"
    }
   ],
   "source": [
    "# evaluate accuracy on test set\n",
    "gb.score(X_test_hotenc, y_test)"
   ]
  },
  {
   "attachments": {},
   "cell_type": "markdown",
   "metadata": {},
   "source": [
    "### Tuning Gradient Boosting"
   ]
  },
  {
   "cell_type": "code",
   "execution_count": 56,
   "metadata": {},
   "outputs": [],
   "source": [
    "# parameters for Gradient Boosting\n",
    "parameters = {\n",
    "    'n_estimators': (50, 100, 200, 400),\n",
    "    'max_depth': (3, 5, None),\n",
    "    }\n",
    "\n",
    "model = GridSearchCV(\n",
    "    gb, \n",
    "    parameters,\n",
    "    scoring=make_scorer(recall_score),\n",
    "    cv=3, \n",
    "    n_jobs =-1)"
   ]
  },
  {
   "cell_type": "code",
   "execution_count": 57,
   "metadata": {},
   "outputs": [
    {
     "data": {
      "text/html": [
       "<style>#sk-container-id-4 {color: black;background-color: white;}#sk-container-id-4 pre{padding: 0;}#sk-container-id-4 div.sk-toggleable {background-color: white;}#sk-container-id-4 label.sk-toggleable__label {cursor: pointer;display: block;width: 100%;margin-bottom: 0;padding: 0.3em;box-sizing: border-box;text-align: center;}#sk-container-id-4 label.sk-toggleable__label-arrow:before {content: \"▸\";float: left;margin-right: 0.25em;color: #696969;}#sk-container-id-4 label.sk-toggleable__label-arrow:hover:before {color: black;}#sk-container-id-4 div.sk-estimator:hover label.sk-toggleable__label-arrow:before {color: black;}#sk-container-id-4 div.sk-toggleable__content {max-height: 0;max-width: 0;overflow: hidden;text-align: left;background-color: #f0f8ff;}#sk-container-id-4 div.sk-toggleable__content pre {margin: 0.2em;color: black;border-radius: 0.25em;background-color: #f0f8ff;}#sk-container-id-4 input.sk-toggleable__control:checked~div.sk-toggleable__content {max-height: 200px;max-width: 100%;overflow: auto;}#sk-container-id-4 input.sk-toggleable__control:checked~label.sk-toggleable__label-arrow:before {content: \"▾\";}#sk-container-id-4 div.sk-estimator input.sk-toggleable__control:checked~label.sk-toggleable__label {background-color: #d4ebff;}#sk-container-id-4 div.sk-label input.sk-toggleable__control:checked~label.sk-toggleable__label {background-color: #d4ebff;}#sk-container-id-4 input.sk-hidden--visually {border: 0;clip: rect(1px 1px 1px 1px);clip: rect(1px, 1px, 1px, 1px);height: 1px;margin: -1px;overflow: hidden;padding: 0;position: absolute;width: 1px;}#sk-container-id-4 div.sk-estimator {font-family: monospace;background-color: #f0f8ff;border: 1px dotted black;border-radius: 0.25em;box-sizing: border-box;margin-bottom: 0.5em;}#sk-container-id-4 div.sk-estimator:hover {background-color: #d4ebff;}#sk-container-id-4 div.sk-parallel-item::after {content: \"\";width: 100%;border-bottom: 1px solid gray;flex-grow: 1;}#sk-container-id-4 div.sk-label:hover label.sk-toggleable__label {background-color: #d4ebff;}#sk-container-id-4 div.sk-serial::before {content: \"\";position: absolute;border-left: 1px solid gray;box-sizing: border-box;top: 0;bottom: 0;left: 50%;z-index: 0;}#sk-container-id-4 div.sk-serial {display: flex;flex-direction: column;align-items: center;background-color: white;padding-right: 0.2em;padding-left: 0.2em;position: relative;}#sk-container-id-4 div.sk-item {position: relative;z-index: 1;}#sk-container-id-4 div.sk-parallel {display: flex;align-items: stretch;justify-content: center;background-color: white;position: relative;}#sk-container-id-4 div.sk-item::before, #sk-container-id-4 div.sk-parallel-item::before {content: \"\";position: absolute;border-left: 1px solid gray;box-sizing: border-box;top: 0;bottom: 0;left: 50%;z-index: -1;}#sk-container-id-4 div.sk-parallel-item {display: flex;flex-direction: column;z-index: 1;position: relative;background-color: white;}#sk-container-id-4 div.sk-parallel-item:first-child::after {align-self: flex-end;width: 50%;}#sk-container-id-4 div.sk-parallel-item:last-child::after {align-self: flex-start;width: 50%;}#sk-container-id-4 div.sk-parallel-item:only-child::after {width: 0;}#sk-container-id-4 div.sk-dashed-wrapped {border: 1px dashed gray;margin: 0 0.4em 0.5em 0.4em;box-sizing: border-box;padding-bottom: 0.4em;background-color: white;}#sk-container-id-4 div.sk-label label {font-family: monospace;font-weight: bold;display: inline-block;line-height: 1.2em;}#sk-container-id-4 div.sk-label-container {text-align: center;}#sk-container-id-4 div.sk-container {/* jupyter's `normalize.less` sets `[hidden] { display: none; }` but bootstrap.min.css set `[hidden] { display: none !important; }` so we also need the `!important` here to be able to override the default hidden behavior on the sphinx rendered scikit-learn.org. See: https://github.com/scikit-learn/scikit-learn/issues/21755 */display: inline-block !important;position: relative;}#sk-container-id-4 div.sk-text-repr-fallback {display: none;}</style><div id=\"sk-container-id-4\" class=\"sk-top-container\"><div class=\"sk-text-repr-fallback\"><pre>GridSearchCV(cv=3,\n",
       "             estimator=GradientBoostingClassifier(max_depth=None,\n",
       "                                                  max_features=&#x27;log2&#x27;,\n",
       "                                                  random_state=123),\n",
       "             n_jobs=-1,\n",
       "             param_grid={&#x27;max_depth&#x27;: (3, 5, None),\n",
       "                         &#x27;n_estimators&#x27;: (50, 100, 200, 400)},\n",
       "             scoring=make_scorer(recall_score))</pre><b>In a Jupyter environment, please rerun this cell to show the HTML representation or trust the notebook. <br />On GitHub, the HTML representation is unable to render, please try loading this page with nbviewer.org.</b></div><div class=\"sk-container\" hidden><div class=\"sk-item sk-dashed-wrapped\"><div class=\"sk-label-container\"><div class=\"sk-label sk-toggleable\"><input class=\"sk-toggleable__control sk-hidden--visually\" id=\"sk-estimator-id-6\" type=\"checkbox\" ><label for=\"sk-estimator-id-6\" class=\"sk-toggleable__label sk-toggleable__label-arrow\">GridSearchCV</label><div class=\"sk-toggleable__content\"><pre>GridSearchCV(cv=3,\n",
       "             estimator=GradientBoostingClassifier(max_depth=None,\n",
       "                                                  max_features=&#x27;log2&#x27;,\n",
       "                                                  random_state=123),\n",
       "             n_jobs=-1,\n",
       "             param_grid={&#x27;max_depth&#x27;: (3, 5, None),\n",
       "                         &#x27;n_estimators&#x27;: (50, 100, 200, 400)},\n",
       "             scoring=make_scorer(recall_score))</pre></div></div></div><div class=\"sk-parallel\"><div class=\"sk-parallel-item\"><div class=\"sk-item\"><div class=\"sk-label-container\"><div class=\"sk-label sk-toggleable\"><input class=\"sk-toggleable__control sk-hidden--visually\" id=\"sk-estimator-id-7\" type=\"checkbox\" ><label for=\"sk-estimator-id-7\" class=\"sk-toggleable__label sk-toggleable__label-arrow\">estimator: GradientBoostingClassifier</label><div class=\"sk-toggleable__content\"><pre>GradientBoostingClassifier(max_depth=None, max_features=&#x27;log2&#x27;,\n",
       "                           random_state=123)</pre></div></div></div><div class=\"sk-serial\"><div class=\"sk-item\"><div class=\"sk-estimator sk-toggleable\"><input class=\"sk-toggleable__control sk-hidden--visually\" id=\"sk-estimator-id-8\" type=\"checkbox\" ><label for=\"sk-estimator-id-8\" class=\"sk-toggleable__label sk-toggleable__label-arrow\">GradientBoostingClassifier</label><div class=\"sk-toggleable__content\"><pre>GradientBoostingClassifier(max_depth=None, max_features=&#x27;log2&#x27;,\n",
       "                           random_state=123)</pre></div></div></div></div></div></div></div></div></div></div>"
      ],
      "text/plain": [
       "GridSearchCV(cv=3,\n",
       "             estimator=GradientBoostingClassifier(max_depth=None,\n",
       "                                                  max_features='log2',\n",
       "                                                  random_state=123),\n",
       "             n_jobs=-1,\n",
       "             param_grid={'max_depth': (3, 5, None),\n",
       "                         'n_estimators': (50, 100, 200, 400)},\n",
       "             scoring=make_scorer(recall_score))"
      ]
     },
     "execution_count": 57,
     "metadata": {},
     "output_type": "execute_result"
    }
   ],
   "source": [
    "model.fit(X_train_hotenc, y_train)"
   ]
  },
  {
   "cell_type": "code",
   "execution_count": 58,
   "metadata": {},
   "outputs": [
    {
     "data": {
      "text/plain": [
       "0.5613346418056918"
      ]
     },
     "execution_count": 58,
     "metadata": {},
     "output_type": "execute_result"
    }
   ],
   "source": [
    "# evaluate accuracy on training set\n",
    "model.score(X_train_hotenc, y_train)"
   ]
  },
  {
   "cell_type": "code",
   "execution_count": 59,
   "metadata": {},
   "outputs": [
    {
     "data": {
      "text/plain": [
       "0.4292730844793713"
      ]
     },
     "execution_count": 59,
     "metadata": {},
     "output_type": "execute_result"
    }
   ],
   "source": [
    "# evaluate accuracy on test set\n",
    "model.score(X_test_hotenc, y_test)"
   ]
  },
  {
   "cell_type": "code",
   "execution_count": 60,
   "metadata": {},
   "outputs": [
    {
     "data": {
      "text/plain": [
       "{'max_depth': 3, 'n_estimators': 400}"
      ]
     },
     "execution_count": 60,
     "metadata": {},
     "output_type": "execute_result"
    }
   ],
   "source": [
    "model.best_params_"
   ]
  },
  {
   "cell_type": "code",
   "execution_count": 61,
   "metadata": {},
   "outputs": [],
   "source": [
    "# Save the BEST classifier!!!\n",
    "with open('../artifacts/model.pickle', 'wb') as filename:\n",
    "    pickle.dump(model, filename)"
   ]
  },
  {
   "attachments": {},
   "cell_type": "markdown",
   "metadata": {},
   "source": [
    "# Model Evaluation"
   ]
  },
  {
   "cell_type": "code",
   "execution_count": 62,
   "metadata": {},
   "outputs": [
    {
     "data": {
      "image/png": "[encoded data removed]",
      "text/plain": [
       "<Figure size 432x288 with 2 Axes>"
      ]
     },
     "metadata": {
      "needs_background": "light"
     },
     "output_type": "display_data"
    }
   ],
   "source": [
    "# plot confusion matrix for training data\n",
    "plot_confusion_matrix(\n",
    "    features=X_train_hotenc, \n",
    "    labels=y_train, \n",
    "    sklearn_model=model)"
   ]
  },
  {
   "cell_type": "code",
   "execution_count": 63,
   "metadata": {},
   "outputs": [
    {
     "data": {
      "image/png": "[encoded data removed]",
      "text/plain": [
       "<Figure size 432x288 with 2 Axes>"
      ]
     },
     "metadata": {
      "needs_background": "light"
     },
     "output_type": "display_data"
    }
   ],
   "source": [
    "# plot confusion matrix for test data\n",
    "plot_confusion_matrix(\n",
    "    features=X_test_hotenc, \n",
    "    labels=y_test, \n",
    "    sklearn_model=model)"
   ]
  }
 ],
 "metadata": {
  "colab": {
   "provenance": []
  },
  "instance_type": "ml.t3.medium",
  "kernelspec": {
   "display_name": "customer_analytics",
   "language": "python",
   "name": "python3"
  },
  "language_info": {
   "codemirror_mode": {
    "name": "ipython",
    "version": 3
   },
   "file_extension": ".py",
   "mimetype": "text/x-python",
   "name": "python",
   "nbconvert_exporter": "python",
   "pygments_lexer": "ipython3",
   "version": "3.8.13"
  },
  "vscode": {
   "interpreter": {
    "hash": "d6d257a4de92dbbd8540bc21a788c880e0ed004671baa4a130c0cbca69d8aa15"
   }
  }
 },
 "nbformat": 4,
 "nbformat_minor": 4
}
